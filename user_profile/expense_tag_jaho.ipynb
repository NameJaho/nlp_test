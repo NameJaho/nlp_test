{
 "cells": [
  {
   "cell_type": "code",
   "id": "initial_id",
   "metadata": {
    "collapsed": true,
    "ExecuteTime": {
     "end_time": "2024-08-02T10:44:40.428152Z",
     "start_time": "2024-08-02T10:44:39.776702Z"
    }
   },
   "source": [
    "import warnings\n",
    "from user_profile.profile_service import *\n",
    "\n",
    "warnings.filterwarnings('ignore')\n",
    "\n",
    "INPUT_FILE = 'data/cleanup_5w_users.pkl'\n",
    "CONFIG_FILE = 'config/config.yaml'\n",
    "DOMAIN = 'EXPENSE'"
   ],
   "outputs": [
    {
     "name": "stdout",
     "output_type": "stream",
     "text": [
      "INFO: Pandarallel will run on 8 workers.\n",
      "INFO: Pandarallel will use standard multiprocessing data transfer (pipe) to transfer data between the main process and workers.\n"
     ]
    }
   ],
   "execution_count": 2
  },
  {
   "metadata": {
    "ExecuteTime": {
     "end_time": "2024-08-02T10:44:41.104979Z",
     "start_time": "2024-08-02T10:44:40.972723Z"
    }
   },
   "cell_type": "code",
   "source": [
    "# load config\n",
    "config = load_config(CONFIG_FILE)\n",
    "\n",
    "global_nickname_blacklist = get_global_nickname_blacklist(config)\n",
    "domain_nickname_blacklist = get_domain_nicknames_blacklist(config, domain=DOMAIN)\n",
    "\n",
    "ignore_blacklist = get_ignore_blacklist(config, domain=DOMAIN)\n",
    "\n",
    "domain_content_whitelist = get_content_whitelist(config, domain=DOMAIN)\n",
    "domain_content_blacklist = get_content_blacklist(config, domain=DOMAIN)"
   ],
   "id": "2503e96f2bee272d",
   "outputs": [],
   "execution_count": 3
  },
  {
   "metadata": {
    "ExecuteTime": {
     "end_time": "2024-08-02T10:45:00.262679Z",
     "start_time": "2024-08-02T10:44:42.165942Z"
    }
   },
   "cell_type": "code",
   "source": [
    "# load data then remove global biz user\n",
    "df = load_data(INPUT_FILE, file_format='pkl')\n",
    "\n",
    "df = remove_biz_user(df, global_nickname_blacklist)\n",
    "df = remove_biz_user(df, domain_nickname_blacklist)\n",
    "\n",
    "len(df)"
   ],
   "id": "fd0772e37dd8e5f8",
   "outputs": [
    {
     "data": {
      "text/plain": "437317"
     },
     "execution_count": 4,
     "metadata": {},
     "output_type": "execute_result"
    }
   ],
   "execution_count": 4
  },
  {
   "metadata": {
    "jupyter": {
     "is_executing": true
    },
    "ExecuteTime": {
     "end_time": "2024-08-02T10:46:27.513408Z",
     "start_time": "2024-08-02T10:45:31.322586Z"
    }
   },
   "cell_type": "code",
   "source": [
    "df_filtered = filter_by_score(df, domain_content_whitelist, domain_content_blacklist, ignore_blacklist=ignore_blacklist)\n",
    "df_filtered"
   ],
   "id": "d6a42995ec7b89df",
   "outputs": [
    {
     "name": "stdout",
     "output_type": "stream",
     "text": [
      "***[式烤肉界的海底捞 一頭屋服] in pipeline left remove\n",
      "***[（INFP卡夫卡）枷锁中的] in pipeline left remove\n",
      "***[也很便利，海底捞旁边，步步] in pipeline right remove\n",
      "***[西门附近，万豪斜对面 观] in pipeline right remove\n",
      "***[：万达一层三福对面 滕州] in pipeline right remove\n",
      "***[店铺位置在百丽华商店旁边] in pipeline right remove\n",
      "***[📺：B2（ZARA旁边） 6] in pipeline right remove\n",
      "***[20（就在万达文华酒店旁边。] in pipeline right remove\n",
      "***[295号（锦江之星楼下） 开] in pipeline right remove\n",
      "***[906室）海底捞电梯旁边的] in pipeline right remove\n",
      "***[境： 对于璞丽酒店楼下停] in pipeline right remove\n",
      "***[位置在杭州喜来登酒店旁边 ] in pipeline right remove\n",
      "***[破店肥哈、小杨生煎隔壁）不万] in pipeline right remove\n",
      "***[在梧桐里，塔斯汀汉堡正对面] in pipeline right remove\n",
      "***[万达一楼，优衣库旁边~] in pipeline right remove\n",
      "***[📍古德四楼海底捞对面最近正] in pipeline right remove\n",
      "***[1368号WAGAS旁边] in pipeline right remove\n",
      "***[A馆UG，橘朵店附近 粉] in pipeline right remove\n",
      "***[水果界的“雅诗兰黛”不用吐籽] in pipeline left remove\n",
      "***[商务9楼，德克士旁边的门）] in pipeline right remove\n",
      "***[东区2楼（星巴克楼上）] in pipeline right remove\n",
      "***[梭、高中的艾美、大学的O] in pipeline left remove\n",
      "***[楼336A星巴克正对面 开] in pipeline right remove\n",
      "***[如家商旅 格林豪泰都在那附近] in pipeline right remove\n",
      "***[二层南端(无印良品对面) \t] in pipeline right remove\n",
      "***[在老门东 星巴克旁边 环境] in pipeline right remove\n",
      "***[RK二楼（太二隔壁） 🚇] in pipeline right remove\n",
      "***[，我们就从洲际酒店对面的] in pipeline right remove\n",
      "***[ \t 比如盒马就在对面日] in pipeline right remove\n",
      "***[比洗浴界的海底捞了，服务态] in pipeline left remove\n",
      "***[站2号口,星巴克对面、近白] in pipeline right remove\n",
      "***[～～～奥林匹克附近的恒隆] in pipeline right remove\n",
      "***[。 👉就在海底捞隔壁，好找] in pipeline right remove\n",
      "***[ 万象天地LULULEMON旁边 【营] in pipeline right remove\n",
      "***[ 万象天地LULULEMON旁边 【营] in pipeline right remove\n",
      "***[广场一楼（盒马旁边）10] in pipeline right remove\n",
      "***[商场后面，喜来登酒店旁边，] in pipeline right remove\n",
      "***[的店，开在太二隔壁，店内] in pipeline right remove\n",
      "***[中心地段，塔斯汀隔壁，位置] in pipeline right remove\n",
      "***[中心地段，塔斯汀隔壁，位置] in pipeline right remove\n",
      "***[常好，就在万豪酒店的楼下] in pipeline right remove\n",
      "***[玛特商业街蜜雪冰城斜对面，阿] in pipeline right remove\n",
      "***[100米的宜必思酒店旁边的] in pipeline right remove\n",
      "***[相片中的凯特步履轻快，脸] in pipeline left remove\n",
      "***[ 在盛天地星巴克旁边！下楼] in pipeline right remove\n",
      "***[3: 外滩英迪格酒店附近 ] in pipeline right remove\n",
      "***[路。（上海白玉兰广场对面）] in pipeline right remove\n",
      "***[号(洪崖洞星巴克马路对面)] in pipeline right remove\n",
      "***[路交叉口，味千拉面对面 学府] in pipeline right remove\n",
      "***[叫：九陌 喜来登酒店旁边 ] in pipeline right remove\n",
      "***[商场后面，喜来登酒店旁边，] in pipeline right remove\n",
      "***[址：西大街蜜雪冰城斜对面 人] in pipeline right remove\n",
      "***[们停车停在丽筠酒店 附近] in pipeline right remove\n",
      "***[顿了。（在遇见小面旁边，遇见] in pipeline right remove\n",
      "***[童面霜界的海蓝之谜，它的设计] in pipeline left remove\n",
      "***[漳州大学城A2附近 城职] in pipeline right remove\n",
      "***[达广场A区李宁对面] in pipeline right remove\n",
      "***[好找，就在星巴克旁边。 我] in pipeline right remove\n",
      "***[凯旋门（在海底捞旁边） 环] in pipeline right remove\n",
      "***[烤 地址：万豪酒店对面有] in pipeline right remove\n",
      "***[就在市府路蜜雪冰城对面巷子进] in pipeline right remove\n",
      "***[路230号亚朵酒店隔壁 ] in pipeline right remove\n",
      "***[路230号亚朵酒店隔壁 ] in pipeline right remove\n",
      "***[始相中的是BOSE的一套很小] in pipeline left remove\n",
      "***[凯旋门（在海底捞旁边） 环] in pipeline right remove\n",
      "***[楼438(李宁隔壁CHU] in pipeline right remove\n",
      "***[的萨利就在万豪酒店旁边，] in pipeline right remove\n",
      "***[去免税L层雅诗兰黛对面的红色] in pipeline right remove\n",
      "***[，再去1楼兰蔻对面排队，] in pipeline right remove\n",
      "***[\t 另外，花西子那边儿旁边] in pipeline right remove\n",
      "***[位置在中街吉野家旁边胡同里] in pipeline right remove\n",
      "***[和室友去了海底捞，想让隔壁] in pipeline right remove\n",
      "***[乐乐茶对面星巴克旁边找到了] in pipeline right remove\n",
      "***[(北区3楼星巴克对面可以穿] in pipeline right remove\n",
      "***[彩虹集市在喜来登酒店对面的] in pipeline right remove\n",
      "***[1368号WAGAS旁边] in pipeline right remove\n",
      "***[。古筑中的星巴克KFC，鳞] in pipeline left remove\n",
      "***[如晨曦中的瑰丽霞光，映照] in pipeline left remove\n",
      "***[们这次住的四季酒店，四季旁边] in pipeline right remove\n",
      "***[场的北面，海底捞那个楼上。] in pipeline right remove\n",
      "***[悦城负一 优衣库旁边 很好] in pipeline right remove\n",
      "***[？没事儿，盒马就在家附近] in pipeline right remove\n"
     ]
    },
    {
     "data": {
      "text/plain": "                                                  content  \\\n12         星巴克星冰乐，在家也能喝上啦～4种口味！ 冷藏一下，出门加班提神很不错！ 4种口味都很喜欢！   \n16                           分析了➕7直播间和京东 发现了1号店赠的更多也便宜是不是   \n39      重庆新店IFSLV新店，让我意外惊喜的买到了我心仪已久的nano 真的激动的不得了 Sa之前...   \n49      YSL七夕口红礼盒💝💝💝Make it you，定制专属你的YSL。 今年杨树林推出四款七夕...   \n50      今天冬天刚一立春时，就烂脸了！！！脸颊红肿脱皮，还巨痒，真是苦不堪言！！！！平时都是上班化妆...   \n...                                                   ...   \n539570                               好搭，百搭的一款凉鞋，经典款了，找货就来   \n539578  草莓轻乳酪星冰乐🍓 推荐指数🌟🌟🌟🌟 绵密的沙冰口感，浓郁的草莓酱覆盖味蕾，还有草莓果肉和黄...   \n539585  我以前从来不觉得我可以用完一支口红 直到我遇到了兰蔻小蛮腰 196已经快被我撸完了 \\t 试...   \n539591  星巴克谐音梗我也学会啦星巴克低卡柠檬茶也是超级好喝哦酸酸甜甜如溜溜梅般酸爽！夏天清凉解暑，不...   \n539605                 尖锐鞋头、打破常规橡胶底片非常机能的设计，加上标志性的三角大Logo   \n\n                                        _id            source  \\\n12      {\"$oid\":\"65a6d028ceec5601ea4125da\"}  user_post_day_up   \n16      {\"$oid\":\"65a6d02f04cd60a611da0adc\"}  user_post_day_up   \n39      {\"$oid\":\"6599ba12be99859365af8550\"}         user_post   \n49      {\"$oid\":\"659a9ae7fd3b440865c0e92a\"}      user_collect   \n50      {\"$oid\":\"6599f60dd3a08526f325e725\"}         user_post   \n...                                     ...               ...   \n539570  {\"$oid\":\"657a2b34350c4aa1728c015b\"}         user_post   \n539578  {\"$oid\":\"657a59333abb8b2099874e61\"}         user_post   \n539585  {\"$oid\":\"657a43fc3abb8b20998250bc\"}      user_collect   \n539591  {\"$oid\":\"657a5933cfd4f18d6f7add69\"}         user_post   \n539605  {\"$oid\":\"657a44f5350c4aa172925c0d\"}         user_post   \n\n                         note_id   nickname                   user_id    type  \\\n12      65353467000000002202fd2c       呀呀呀呀  55784397a75c952e1e71775d  normal   \n16      653535a5000000002000275f      你的小番茄  575e0af450c4b46265c8e2e5  normal   \n39      5a3146d819f7161df561f1e6      喵吱T^T  554b9cecaf81471d75a00400  normal   \n49      5b85150a672e146a06f5e8ea   眼中的苏小姐🌸🌸  56d5942984edcd68d11027d5  normal   \n50      5b876a80910cf652cb2d1ced        卓别聂  59e32d6c95c935758c59650f  normal   \n...                          ...        ...                       ...     ...   \n539570  626c27ad000000000102da03        乌托邦  5b8c2470d49ec200015c7825  normal   \n539578  626e13db0000000001025673      Vievv  5bf4ee69e9294d0001eeceb6  normal   \n539585  626f970d000000000102f10b  Necooooo🎈  60ed91a2000000000101fa7a  normal   \n539591  6270bab1000000002103e56e      Vievv  5bf4ee69e9294d0001eeceb6  normal   \n539605  6273966e000000000102f8b2    林binbin  5bc5a7b78f3d4800016d57d4  normal   \n\n        collected_count  comment_count  share_count  ... career field  \\\n12                    0              0            0  ...    NaN   NaN   \n16                    0              5            1  ...    NaN   NaN   \n39                    3              4            0  ...    NaN   NaN   \n49                  100              7            5  ...    NaN   NaN   \n50                    2              1            0  ...    NaN   NaN   \n...                 ...            ...          ...  ...    ...   ...   \n539570                0              0            0  ...    NaN   NaN   \n539578                8             10           10  ...    NaN   NaN   \n539585               10            100            0  ...    NaN   NaN   \n539591                6              0            2  ...    NaN   NaN   \n539605                0              0            0  ...    NaN   NaN   \n\n       education  cert if_exists_comment sale_flag  keep  \\\n12           NaN   NaN                 0         0     1   \n16           NaN   NaN                 5         0     1   \n39           NaN   NaN                 4         0     1   \n49           NaN   NaN                 7         0     1   \n50           NaN   NaN                 1         0     1   \n...          ...   ...               ...       ...   ...   \n539570       NaN   NaN                 0         0     1   \n539578       NaN   NaN                10         0     1   \n539585       NaN   NaN                12         0     1   \n539591       NaN   NaN                 0         0     1   \n539605       NaN   NaN                 0         0     1   \n\n                                                     text  \\\n12      星巴克星冰乐，在家也能喝上啦～4种口味！ 冷藏一下，出门加班提神很不错！ 4种口味都很喜欢！星巴克   \n16        黑绷带是不是一号店最划算分析了➕7直播间和京东 发现了1号店赠的更多也便宜是不是黑绷带;赫莲娜   \n39      LV 套娃三合一以及speedy nano小枕头包重庆新店IFSLV新店，让我意外惊喜的买到...   \n49      YSL七夕口红礼盒💝💝💝Make it you，定制专属你的YSL。 今年杨树林推出四款七夕...   \n50      今天冬天刚一立春时，就烂脸了！！！脸颊红肿脱皮，还巨痒，真是苦不堪言！！！！平时都是上班化妆...   \n...                                                   ...   \n539570    香奈儿凉鞋，找货的来  好搭，百搭的一款凉鞋，经典款了，找货就来香奈儿鞋;平底凉鞋;香奈儿凉鞋   \n539578  五一假期星巴克新宠🍓草莓轻乳酪星冰乐🍓 推荐指数🌟🌟🌟🌟 绵密的沙冰口感，浓郁的草莓酱覆盖味...   \n539585  兰蔻小蛮腰唇釉我以前从来不觉得我可以用完一支口红 直到我遇到了兰蔻小蛮腰 196已经快被我撸...   \n539591  星巴克谐音梗➕低卡柠檬茶隐藏配方🌟星巴克谐音梗我也学会啦星巴克低卡柠檬茶也是超级好喝哦酸酸甜...   \n539605  𝐏𝐑𝐀𝐃𝐀普拉达2022系列不用多说绝对是爆尖锐鞋头、打破常规橡胶底片非常机能的设计，加上标...   \n\n                                       score      keywords  \n12      [{'score': 7, 'type': 'restaurant'}]         [星巴克]  \n16         [{'score': 9, 'type': 'costume'}]         [赫莲娜]  \n39         [{'score': 9, 'type': 'fashion'}]        [LV|包]  \n49         [{'score': 9, 'type': 'costume'}]         [Ysl]  \n50         [{'score': 3, 'type': 'costume'}]         [薇诺娜]  \n...                                      ...           ...  \n539570     [{'score': 9, 'type': 'fashion'}]       [香奈儿|鞋]  \n539578  [{'score': 7, 'type': 'restaurant'}]         [星巴克]  \n539585     [{'score': 7, 'type': 'costume'}]          [兰蔻]  \n539591  [{'score': 7, 'type': 'restaurant'}]         [星巴克]  \n539605     [{'score': 9, 'type': 'fashion'}]  [普拉达, Prada]  \n\n[15966 rows x 45 columns]",
      "text/html": "<div>\n<style scoped>\n    .dataframe tbody tr th:only-of-type {\n        vertical-align: middle;\n    }\n\n    .dataframe tbody tr th {\n        vertical-align: top;\n    }\n\n    .dataframe thead th {\n        text-align: right;\n    }\n</style>\n<table border=\"1\" class=\"dataframe\">\n  <thead>\n    <tr style=\"text-align: right;\">\n      <th></th>\n      <th>content</th>\n      <th>_id</th>\n      <th>source</th>\n      <th>note_id</th>\n      <th>nickname</th>\n      <th>user_id</th>\n      <th>type</th>\n      <th>collected_count</th>\n      <th>comment_count</th>\n      <th>share_count</th>\n      <th>...</th>\n      <th>career</th>\n      <th>field</th>\n      <th>education</th>\n      <th>cert</th>\n      <th>if_exists_comment</th>\n      <th>sale_flag</th>\n      <th>keep</th>\n      <th>text</th>\n      <th>score</th>\n      <th>keywords</th>\n    </tr>\n  </thead>\n  <tbody>\n    <tr>\n      <th>12</th>\n      <td>星巴克星冰乐，在家也能喝上啦～4种口味！ 冷藏一下，出门加班提神很不错！ 4种口味都很喜欢！</td>\n      <td>{\"$oid\":\"65a6d028ceec5601ea4125da\"}</td>\n      <td>user_post_day_up</td>\n      <td>65353467000000002202fd2c</td>\n      <td>呀呀呀呀</td>\n      <td>55784397a75c952e1e71775d</td>\n      <td>normal</td>\n      <td>0</td>\n      <td>0</td>\n      <td>0</td>\n      <td>...</td>\n      <td>NaN</td>\n      <td>NaN</td>\n      <td>NaN</td>\n      <td>NaN</td>\n      <td>0</td>\n      <td>0</td>\n      <td>1</td>\n      <td>星巴克星冰乐，在家也能喝上啦～4种口味！ 冷藏一下，出门加班提神很不错！ 4种口味都很喜欢！星巴克</td>\n      <td>[{'score': 7, 'type': 'restaurant'}]</td>\n      <td>[星巴克]</td>\n    </tr>\n    <tr>\n      <th>16</th>\n      <td>分析了➕7直播间和京东 发现了1号店赠的更多也便宜是不是</td>\n      <td>{\"$oid\":\"65a6d02f04cd60a611da0adc\"}</td>\n      <td>user_post_day_up</td>\n      <td>653535a5000000002000275f</td>\n      <td>你的小番茄</td>\n      <td>575e0af450c4b46265c8e2e5</td>\n      <td>normal</td>\n      <td>0</td>\n      <td>5</td>\n      <td>1</td>\n      <td>...</td>\n      <td>NaN</td>\n      <td>NaN</td>\n      <td>NaN</td>\n      <td>NaN</td>\n      <td>5</td>\n      <td>0</td>\n      <td>1</td>\n      <td>黑绷带是不是一号店最划算分析了➕7直播间和京东 发现了1号店赠的更多也便宜是不是黑绷带;赫莲娜</td>\n      <td>[{'score': 9, 'type': 'costume'}]</td>\n      <td>[赫莲娜]</td>\n    </tr>\n    <tr>\n      <th>39</th>\n      <td>重庆新店IFSLV新店，让我意外惊喜的买到了我心仪已久的nano 真的激动的不得了 Sa之前...</td>\n      <td>{\"$oid\":\"6599ba12be99859365af8550\"}</td>\n      <td>user_post</td>\n      <td>5a3146d819f7161df561f1e6</td>\n      <td>喵吱T^T</td>\n      <td>554b9cecaf81471d75a00400</td>\n      <td>normal</td>\n      <td>3</td>\n      <td>4</td>\n      <td>0</td>\n      <td>...</td>\n      <td>NaN</td>\n      <td>NaN</td>\n      <td>NaN</td>\n      <td>NaN</td>\n      <td>4</td>\n      <td>0</td>\n      <td>1</td>\n      <td>LV 套娃三合一以及speedy nano小枕头包重庆新店IFSLV新店，让我意外惊喜的买到...</td>\n      <td>[{'score': 9, 'type': 'fashion'}]</td>\n      <td>[LV|包]</td>\n    </tr>\n    <tr>\n      <th>49</th>\n      <td>YSL七夕口红礼盒💝💝💝Make it you，定制专属你的YSL。 今年杨树林推出四款七夕...</td>\n      <td>{\"$oid\":\"659a9ae7fd3b440865c0e92a\"}</td>\n      <td>user_collect</td>\n      <td>5b85150a672e146a06f5e8ea</td>\n      <td>眼中的苏小姐🌸🌸</td>\n      <td>56d5942984edcd68d11027d5</td>\n      <td>normal</td>\n      <td>100</td>\n      <td>7</td>\n      <td>5</td>\n      <td>...</td>\n      <td>NaN</td>\n      <td>NaN</td>\n      <td>NaN</td>\n      <td>NaN</td>\n      <td>7</td>\n      <td>0</td>\n      <td>1</td>\n      <td>YSL七夕口红礼盒💝💝💝Make it you，定制专属你的YSL。 今年杨树林推出四款七夕...</td>\n      <td>[{'score': 9, 'type': 'costume'}]</td>\n      <td>[Ysl]</td>\n    </tr>\n    <tr>\n      <th>50</th>\n      <td>今天冬天刚一立春时，就烂脸了！！！脸颊红肿脱皮，还巨痒，真是苦不堪言！！！！平时都是上班化妆...</td>\n      <td>{\"$oid\":\"6599f60dd3a08526f325e725\"}</td>\n      <td>user_post</td>\n      <td>5b876a80910cf652cb2d1ced</td>\n      <td>卓别聂</td>\n      <td>59e32d6c95c935758c59650f</td>\n      <td>normal</td>\n      <td>2</td>\n      <td>1</td>\n      <td>0</td>\n      <td>...</td>\n      <td>NaN</td>\n      <td>NaN</td>\n      <td>NaN</td>\n      <td>NaN</td>\n      <td>1</td>\n      <td>0</td>\n      <td>1</td>\n      <td>今天冬天刚一立春时，就烂脸了！！！脸颊红肿脱皮，还巨痒，真是苦不堪言！！！！平时都是上班化妆...</td>\n      <td>[{'score': 3, 'type': 'costume'}]</td>\n      <td>[薇诺娜]</td>\n    </tr>\n    <tr>\n      <th>...</th>\n      <td>...</td>\n      <td>...</td>\n      <td>...</td>\n      <td>...</td>\n      <td>...</td>\n      <td>...</td>\n      <td>...</td>\n      <td>...</td>\n      <td>...</td>\n      <td>...</td>\n      <td>...</td>\n      <td>...</td>\n      <td>...</td>\n      <td>...</td>\n      <td>...</td>\n      <td>...</td>\n      <td>...</td>\n      <td>...</td>\n      <td>...</td>\n      <td>...</td>\n      <td>...</td>\n    </tr>\n    <tr>\n      <th>539570</th>\n      <td>好搭，百搭的一款凉鞋，经典款了，找货就来</td>\n      <td>{\"$oid\":\"657a2b34350c4aa1728c015b\"}</td>\n      <td>user_post</td>\n      <td>626c27ad000000000102da03</td>\n      <td>乌托邦</td>\n      <td>5b8c2470d49ec200015c7825</td>\n      <td>normal</td>\n      <td>0</td>\n      <td>0</td>\n      <td>0</td>\n      <td>...</td>\n      <td>NaN</td>\n      <td>NaN</td>\n      <td>NaN</td>\n      <td>NaN</td>\n      <td>0</td>\n      <td>0</td>\n      <td>1</td>\n      <td>香奈儿凉鞋，找货的来  好搭，百搭的一款凉鞋，经典款了，找货就来香奈儿鞋;平底凉鞋;香奈儿凉鞋</td>\n      <td>[{'score': 9, 'type': 'fashion'}]</td>\n      <td>[香奈儿|鞋]</td>\n    </tr>\n    <tr>\n      <th>539578</th>\n      <td>草莓轻乳酪星冰乐🍓 推荐指数🌟🌟🌟🌟 绵密的沙冰口感，浓郁的草莓酱覆盖味蕾，还有草莓果肉和黄...</td>\n      <td>{\"$oid\":\"657a59333abb8b2099874e61\"}</td>\n      <td>user_post</td>\n      <td>626e13db0000000001025673</td>\n      <td>Vievv</td>\n      <td>5bf4ee69e9294d0001eeceb6</td>\n      <td>normal</td>\n      <td>8</td>\n      <td>10</td>\n      <td>10</td>\n      <td>...</td>\n      <td>NaN</td>\n      <td>NaN</td>\n      <td>NaN</td>\n      <td>NaN</td>\n      <td>10</td>\n      <td>0</td>\n      <td>1</td>\n      <td>五一假期星巴克新宠🍓草莓轻乳酪星冰乐🍓 推荐指数🌟🌟🌟🌟 绵密的沙冰口感，浓郁的草莓酱覆盖味...</td>\n      <td>[{'score': 7, 'type': 'restaurant'}]</td>\n      <td>[星巴克]</td>\n    </tr>\n    <tr>\n      <th>539585</th>\n      <td>我以前从来不觉得我可以用完一支口红 直到我遇到了兰蔻小蛮腰 196已经快被我撸完了 \\t 试...</td>\n      <td>{\"$oid\":\"657a43fc3abb8b20998250bc\"}</td>\n      <td>user_collect</td>\n      <td>626f970d000000000102f10b</td>\n      <td>Necooooo🎈</td>\n      <td>60ed91a2000000000101fa7a</td>\n      <td>normal</td>\n      <td>10</td>\n      <td>100</td>\n      <td>0</td>\n      <td>...</td>\n      <td>NaN</td>\n      <td>NaN</td>\n      <td>NaN</td>\n      <td>NaN</td>\n      <td>12</td>\n      <td>0</td>\n      <td>1</td>\n      <td>兰蔻小蛮腰唇釉我以前从来不觉得我可以用完一支口红 直到我遇到了兰蔻小蛮腰 196已经快被我撸...</td>\n      <td>[{'score': 7, 'type': 'costume'}]</td>\n      <td>[兰蔻]</td>\n    </tr>\n    <tr>\n      <th>539591</th>\n      <td>星巴克谐音梗我也学会啦星巴克低卡柠檬茶也是超级好喝哦酸酸甜甜如溜溜梅般酸爽！夏天清凉解暑，不...</td>\n      <td>{\"$oid\":\"657a5933cfd4f18d6f7add69\"}</td>\n      <td>user_post</td>\n      <td>6270bab1000000002103e56e</td>\n      <td>Vievv</td>\n      <td>5bf4ee69e9294d0001eeceb6</td>\n      <td>normal</td>\n      <td>6</td>\n      <td>0</td>\n      <td>2</td>\n      <td>...</td>\n      <td>NaN</td>\n      <td>NaN</td>\n      <td>NaN</td>\n      <td>NaN</td>\n      <td>0</td>\n      <td>0</td>\n      <td>1</td>\n      <td>星巴克谐音梗➕低卡柠檬茶隐藏配方🌟星巴克谐音梗我也学会啦星巴克低卡柠檬茶也是超级好喝哦酸酸甜...</td>\n      <td>[{'score': 7, 'type': 'restaurant'}]</td>\n      <td>[星巴克]</td>\n    </tr>\n    <tr>\n      <th>539605</th>\n      <td>尖锐鞋头、打破常规橡胶底片非常机能的设计，加上标志性的三角大Logo</td>\n      <td>{\"$oid\":\"657a44f5350c4aa172925c0d\"}</td>\n      <td>user_post</td>\n      <td>6273966e000000000102f8b2</td>\n      <td>林binbin</td>\n      <td>5bc5a7b78f3d4800016d57d4</td>\n      <td>normal</td>\n      <td>0</td>\n      <td>0</td>\n      <td>0</td>\n      <td>...</td>\n      <td>NaN</td>\n      <td>NaN</td>\n      <td>NaN</td>\n      <td>NaN</td>\n      <td>0</td>\n      <td>0</td>\n      <td>1</td>\n      <td>𝐏𝐑𝐀𝐃𝐀普拉达2022系列不用多说绝对是爆尖锐鞋头、打破常规橡胶底片非常机能的设计，加上标...</td>\n      <td>[{'score': 9, 'type': 'fashion'}]</td>\n      <td>[普拉达, Prada]</td>\n    </tr>\n  </tbody>\n</table>\n<p>15966 rows × 45 columns</p>\n</div>"
     },
     "execution_count": 6,
     "metadata": {},
     "output_type": "execute_result"
    }
   ],
   "execution_count": 6
  },
  {
   "cell_type": "code",
   "source": [
    "df_user = group_by_user_v2(df_filtered)\n",
    "print(f'expense - #posts:{len(df_filtered)}, #users: {len(df_user)}')\n",
    "df_user[['text','score','keywords']]"
   ],
   "metadata": {
    "collapsed": false,
    "jupyter": {
     "is_executing": true
    },
    "ExecuteTime": {
     "end_time": "2024-08-02T10:48:17.992753Z",
     "start_time": "2024-08-02T10:48:17.818796Z"
    }
   },
   "id": "ebd1fac5861b893f",
   "outputs": [
    {
     "name": "stdout",
     "output_type": "stream",
     "text": [
      "expense - #posts:15966, #users: 5736\n"
     ]
    },
    {
     "data": {
      "text/plain": "                                                   text  \\\n0     终于拔草了「兰芝双色唇膏，乔妹必备款」这个大热的唇膏，不算很润，还是比较干的，需要打底，个人...   \n1     YSL 方管 17话说某一天上微博随便翻翻看看就发现了这只唇膏👀 结果我茶不思饭不想老惦记着...   \n2     #我的色彩# #粉色#第一页 1：最为推荐的就是lulu的小卡包啦 便宜又实用 👛都可以不用...   \n3     北京探店-打卡帝都网红汉堡shake shack🍔他家风好大，刚开业没几天就看到好多人打卡，...   \n4     继续化妆刷继续化妆刷！cpb粉底刷 这款好像没看到有人发。。。刷毛有弹性 刷后有刷痕 感觉没...   \n...                                                 ...   \n5731  不花冤枉钱!必囤的美白水乳分享来了!黄黑皮的苦我真的吃够了！ 踩雷水乳的苦我也吃够了！ 夏天...   \n5732  姐妹们，快试试这款包吧绝对是让你们也爱到不行的一款包包呀~ 经典百搭的干邑色再搭配满印log...   \n5733  宝安一号线固戍个人转租|||🚇一号线固戍地铁站（DEF三个出口）楼下就是 🏠户型两房一厅一厨...   \n5734  港硕留学必备攻略，小白必看🌟一年读硕时间过得很快 可能在你逐渐开始适应的时候却即将迎来结课～...   \n5735  华伦天奴的斩男鞋裸色好温柔yyds        #华伦天奴;绝美高跟鞋;美鞋分享;Vale...   \n\n                                                  score  \\\n0     [{'score': 3, 'type': 'costume'}, {'score': 9,...   \n1     [{'score': 9, 'type': 'costume'}, {'score': 7,...   \n2     [{'score': 8, 'type': 'fashion'}, {'score': 9,...   \n3     [{'score': 7, 'type': 'restaurant'}, {'score':...   \n4                     [{'score': 8, 'type': 'fashion'}]   \n...                                                 ...   \n5731                  [{'score': 7, 'type': 'costume'}]   \n5732                  [{'score': 6, 'type': 'fashion'}]   \n5733  [{'score': 7, 'type': 'restaurant'}, {'score':...   \n5734               [{'score': 5, 'type': 'restaurant'}]   \n5735                  [{'score': 9, 'type': 'fashion'}]   \n\n                                               keywords  \n0                                           [兰芝, Gucci]  \n1     [Ysl, 资生堂, 倩碧, 植村秀, 欧莱雅, 资生堂, 大宝|洗面奶, 迪奥, 雅诗兰黛...  \n2     [Dior, 阿玛尼, Clarks, Ysl, 爱马仕|包, 爱马仕|包, 娇韵诗, Ys...  \n3                                 [shake shack, 瑞幸, 瑞幸]  \n4                                                [Dior]  \n...                                                 ...  \n5731                                      [资生堂, 黛珂, 珂润]  \n5732                                              [MCM]  \n5733                                         [星巴克, 星巴克]  \n5734                                              [海底捞]  \n5735                                  [华伦天奴, Valentino]  \n\n[5736 rows x 3 columns]",
      "text/html": "<div>\n<style scoped>\n    .dataframe tbody tr th:only-of-type {\n        vertical-align: middle;\n    }\n\n    .dataframe tbody tr th {\n        vertical-align: top;\n    }\n\n    .dataframe thead th {\n        text-align: right;\n    }\n</style>\n<table border=\"1\" class=\"dataframe\">\n  <thead>\n    <tr style=\"text-align: right;\">\n      <th></th>\n      <th>text</th>\n      <th>score</th>\n      <th>keywords</th>\n    </tr>\n  </thead>\n  <tbody>\n    <tr>\n      <th>0</th>\n      <td>终于拔草了「兰芝双色唇膏，乔妹必备款」这个大热的唇膏，不算很润，还是比较干的，需要打底，个人...</td>\n      <td>[{'score': 3, 'type': 'costume'}, {'score': 9,...</td>\n      <td>[兰芝, Gucci]</td>\n    </tr>\n    <tr>\n      <th>1</th>\n      <td>YSL 方管 17话说某一天上微博随便翻翻看看就发现了这只唇膏👀 结果我茶不思饭不想老惦记着...</td>\n      <td>[{'score': 9, 'type': 'costume'}, {'score': 7,...</td>\n      <td>[Ysl, 资生堂, 倩碧, 植村秀, 欧莱雅, 资生堂, 大宝|洗面奶, 迪奥, 雅诗兰黛...</td>\n    </tr>\n    <tr>\n      <th>2</th>\n      <td>#我的色彩# #粉色#第一页 1：最为推荐的就是lulu的小卡包啦 便宜又实用 👛都可以不用...</td>\n      <td>[{'score': 8, 'type': 'fashion'}, {'score': 9,...</td>\n      <td>[Dior, 阿玛尼, Clarks, Ysl, 爱马仕|包, 爱马仕|包, 娇韵诗, Ys...</td>\n    </tr>\n    <tr>\n      <th>3</th>\n      <td>北京探店-打卡帝都网红汉堡shake shack🍔他家风好大，刚开业没几天就看到好多人打卡，...</td>\n      <td>[{'score': 7, 'type': 'restaurant'}, {'score':...</td>\n      <td>[shake shack, 瑞幸, 瑞幸]</td>\n    </tr>\n    <tr>\n      <th>4</th>\n      <td>继续化妆刷继续化妆刷！cpb粉底刷 这款好像没看到有人发。。。刷毛有弹性 刷后有刷痕 感觉没...</td>\n      <td>[{'score': 8, 'type': 'fashion'}]</td>\n      <td>[Dior]</td>\n    </tr>\n    <tr>\n      <th>...</th>\n      <td>...</td>\n      <td>...</td>\n      <td>...</td>\n    </tr>\n    <tr>\n      <th>5731</th>\n      <td>不花冤枉钱!必囤的美白水乳分享来了!黄黑皮的苦我真的吃够了！ 踩雷水乳的苦我也吃够了！ 夏天...</td>\n      <td>[{'score': 7, 'type': 'costume'}]</td>\n      <td>[资生堂, 黛珂, 珂润]</td>\n    </tr>\n    <tr>\n      <th>5732</th>\n      <td>姐妹们，快试试这款包吧绝对是让你们也爱到不行的一款包包呀~ 经典百搭的干邑色再搭配满印log...</td>\n      <td>[{'score': 6, 'type': 'fashion'}]</td>\n      <td>[MCM]</td>\n    </tr>\n    <tr>\n      <th>5733</th>\n      <td>宝安一号线固戍个人转租|||🚇一号线固戍地铁站（DEF三个出口）楼下就是 🏠户型两房一厅一厨...</td>\n      <td>[{'score': 7, 'type': 'restaurant'}, {'score':...</td>\n      <td>[星巴克, 星巴克]</td>\n    </tr>\n    <tr>\n      <th>5734</th>\n      <td>港硕留学必备攻略，小白必看🌟一年读硕时间过得很快 可能在你逐渐开始适应的时候却即将迎来结课～...</td>\n      <td>[{'score': 5, 'type': 'restaurant'}]</td>\n      <td>[海底捞]</td>\n    </tr>\n    <tr>\n      <th>5735</th>\n      <td>华伦天奴的斩男鞋裸色好温柔yyds        #华伦天奴;绝美高跟鞋;美鞋分享;Vale...</td>\n      <td>[{'score': 9, 'type': 'fashion'}]</td>\n      <td>[华伦天奴, Valentino]</td>\n    </tr>\n  </tbody>\n</table>\n<p>5736 rows × 3 columns</p>\n</div>"
     },
     "execution_count": 10,
     "metadata": {},
     "output_type": "execute_result"
    }
   ],
   "execution_count": 10
  },
  {
   "metadata": {
    "jupyter": {
     "is_executing": true
    },
    "ExecuteTime": {
     "end_time": "2024-08-02T10:47:30.636876Z",
     "start_time": "2024-08-02T10:47:30.392790Z"
    }
   },
   "cell_type": "code",
   "source": [
    "df_user_by_type = filter_user_by_type(df_user, 2)\n",
    "print(f'expense - #users: {len(df_user_by_type)}')\n",
    "df_user_by_type"
   ],
   "id": "86bdd7dc4cec89a1",
   "outputs": [
    {
     "name": "stdout",
     "output_type": "stream",
     "text": [
      "expense - #users: 1380\n"
     ]
    },
    {
     "data": {
      "text/plain": "                       user_id  \\\n0     52f0fafab4c4d615a2fbc0af   \n1     530df31ab4c4d66ff228d63a   \n2     5329f76cb4c4d61dde963ea9   \n6     538531d3b4c4d65abe4487f4   \n8     539cfbcdb4c4d62d66985627   \n...                        ...   \n5677  66042ace000000000600c42f   \n5682  660cadaa000000000600c65c   \n5691  6618b42f0000000007007b8e   \n5693  661a6535000000000700425c   \n5712  663d7f7000000000070065da   \n\n                                                   text   nickname  \\\n0     终于拔草了「兰芝双色唇膏，乔妹必备款」这个大热的唇膏，不算很润，还是比较干的，需要打底，个人...  小磊磊稀饭长岛冰茶   \n1     YSL 方管 17话说某一天上微博随便翻翻看看就发现了这只唇膏👀 结果我茶不思饭不想老惦记着...     脸最大的博主   \n2     #我的色彩# #粉色#第一页 1：最为推荐的就是lulu的小卡包啦 便宜又实用 👛都可以不用...    小笨笨Echo   \n6     宝格丽慈善款银版项链宝格丽慈善款银版项链，好赞好赞！价格超划算，比18K金的便宜好多，而且戴...         燊烨   \n8     从左至右：chanel 08 、YSL12、Dior536 、YSL17、纪梵希202；ys...      YUYU.   \n...                                                 ...        ...   \n5677  我面膜多信我！新品提亮面膜跟着买不出错面膜还不知道怎么选的赶紧看看这篇，总结了用过的不同功效...  爱韩圈的mbti人   \n5682  直接锁死!24年新品持妆遮瑕气垫实测总结姐妹们听劝! 选气垫真的不要盲目跟风! 认真做功课选...        狮之舞   \n5691  618可以直接allin的保湿面霜简直是干皮天堂讲真的，啥都不如面霜来的方便快捷还有效果 不...    Xiang蛋仔   \n5693  完美日记卸妆油！！！还有没有一样好用的家里最后一点完美日记的卸妆油要用完了，然后发现完美日记...     方方圆圆的岷   \n5712  来逛杭州一定要去吃的一家老店❗️❗️❗️开了好多年的杭帮菜馆👈还登上了必吃榜和米其林榜单⭐️...       宅猫日记   \n\n                                                  score  \\\n0     [{'score': 3, 'type': 'costume'}, {'score': 9,...   \n1     [{'score': 9, 'type': 'costume'}, {'score': 7,...   \n2     [{'score': 8, 'type': 'fashion'}, {'score': 9,...   \n6     [{'score': 9, 'type': 'fashion'}, {'score': 9,...   \n8     [{'score': 9, 'type': 'fashion'}, {'score': 9,...   \n...                                                 ...   \n5677  [{'score': 5, 'type': 'costume'}, {'score': 9,...   \n5682  [{'score': 7, 'type': 'milk'}, {'score': 3, 't...   \n5691  [{'score': 7, 'type': 'costume'}, {'score': 3,...   \n5693  [{'score': 3, 'type': 'costume'}, {'score': 3,...   \n5712  [{'score': 9, 'type': 'restaurant'}, {'score':...   \n\n                                               keywords  \\\n0                                           [兰芝, Gucci]   \n1     [Ysl, 资生堂, 倩碧, 植村秀, 欧莱雅, 资生堂, 大宝|洗面奶, 迪奥, 雅诗兰黛...   \n2     [Dior, 阿玛尼, Clarks, Ysl, 爱马仕|包, 爱马仕|包, 娇韵诗, Ys...   \n6     [宝格丽, Burberry, Adidas, 宝格丽, Dior, 迪奥, Gucci, ...   \n8     [纪梵希, Dior, Ysl, 拉夫劳伦, 巴黎世家, Prada, Dior, Dior...   \n...                                                 ...   \n5677  [欧莱雅, 瑷尔博士, 理肤泉, 肌肤之钥, 欧莱雅, 珀莱雅, 纪梵希, 花西子, 卡姿兰...   \n5682                                     [a2, HBN, 欧诗漫]   \n5691               [雅诗兰黛, 海蓝之谜, 兰蔻, 欧莱雅, 理肤泉, 珀莱雅, 奥克斯]   \n5693                                        [完美日记, 华莱士]   \n5712                                   [米其林, 米其林, Dior]   \n\n                      unique_type  type_cnt  \n0              [fashion, costume]         2  \n1        [fashion, milk, costume]         3  \n2              [fashion, costume]         2  \n6     [fashion, digital, costume]         3  \n8     [bicycle, fashion, costume]         3  \n...                           ...       ...  \n5677           [fashion, costume]         2  \n5682              [milk, costume]         2  \n5691              [home, costume]         2  \n5693        [restaurant, costume]         2  \n5712        [restaurant, fashion]         2  \n\n[1380 rows x 7 columns]",
      "text/html": "<div>\n<style scoped>\n    .dataframe tbody tr th:only-of-type {\n        vertical-align: middle;\n    }\n\n    .dataframe tbody tr th {\n        vertical-align: top;\n    }\n\n    .dataframe thead th {\n        text-align: right;\n    }\n</style>\n<table border=\"1\" class=\"dataframe\">\n  <thead>\n    <tr style=\"text-align: right;\">\n      <th></th>\n      <th>user_id</th>\n      <th>text</th>\n      <th>nickname</th>\n      <th>score</th>\n      <th>keywords</th>\n      <th>unique_type</th>\n      <th>type_cnt</th>\n    </tr>\n  </thead>\n  <tbody>\n    <tr>\n      <th>0</th>\n      <td>52f0fafab4c4d615a2fbc0af</td>\n      <td>终于拔草了「兰芝双色唇膏，乔妹必备款」这个大热的唇膏，不算很润，还是比较干的，需要打底，个人...</td>\n      <td>小磊磊稀饭长岛冰茶</td>\n      <td>[{'score': 3, 'type': 'costume'}, {'score': 9,...</td>\n      <td>[兰芝, Gucci]</td>\n      <td>[fashion, costume]</td>\n      <td>2</td>\n    </tr>\n    <tr>\n      <th>1</th>\n      <td>530df31ab4c4d66ff228d63a</td>\n      <td>YSL 方管 17话说某一天上微博随便翻翻看看就发现了这只唇膏👀 结果我茶不思饭不想老惦记着...</td>\n      <td>脸最大的博主</td>\n      <td>[{'score': 9, 'type': 'costume'}, {'score': 7,...</td>\n      <td>[Ysl, 资生堂, 倩碧, 植村秀, 欧莱雅, 资生堂, 大宝|洗面奶, 迪奥, 雅诗兰黛...</td>\n      <td>[fashion, milk, costume]</td>\n      <td>3</td>\n    </tr>\n    <tr>\n      <th>2</th>\n      <td>5329f76cb4c4d61dde963ea9</td>\n      <td>#我的色彩# #粉色#第一页 1：最为推荐的就是lulu的小卡包啦 便宜又实用 👛都可以不用...</td>\n      <td>小笨笨Echo</td>\n      <td>[{'score': 8, 'type': 'fashion'}, {'score': 9,...</td>\n      <td>[Dior, 阿玛尼, Clarks, Ysl, 爱马仕|包, 爱马仕|包, 娇韵诗, Ys...</td>\n      <td>[fashion, costume]</td>\n      <td>2</td>\n    </tr>\n    <tr>\n      <th>6</th>\n      <td>538531d3b4c4d65abe4487f4</td>\n      <td>宝格丽慈善款银版项链宝格丽慈善款银版项链，好赞好赞！价格超划算，比18K金的便宜好多，而且戴...</td>\n      <td>燊烨</td>\n      <td>[{'score': 9, 'type': 'fashion'}, {'score': 9,...</td>\n      <td>[宝格丽, Burberry, Adidas, 宝格丽, Dior, 迪奥, Gucci, ...</td>\n      <td>[fashion, digital, costume]</td>\n      <td>3</td>\n    </tr>\n    <tr>\n      <th>8</th>\n      <td>539cfbcdb4c4d62d66985627</td>\n      <td>从左至右：chanel 08 、YSL12、Dior536 、YSL17、纪梵希202；ys...</td>\n      <td>YUYU.</td>\n      <td>[{'score': 9, 'type': 'fashion'}, {'score': 9,...</td>\n      <td>[纪梵希, Dior, Ysl, 拉夫劳伦, 巴黎世家, Prada, Dior, Dior...</td>\n      <td>[bicycle, fashion, costume]</td>\n      <td>3</td>\n    </tr>\n    <tr>\n      <th>...</th>\n      <td>...</td>\n      <td>...</td>\n      <td>...</td>\n      <td>...</td>\n      <td>...</td>\n      <td>...</td>\n      <td>...</td>\n    </tr>\n    <tr>\n      <th>5677</th>\n      <td>66042ace000000000600c42f</td>\n      <td>我面膜多信我！新品提亮面膜跟着买不出错面膜还不知道怎么选的赶紧看看这篇，总结了用过的不同功效...</td>\n      <td>爱韩圈的mbti人</td>\n      <td>[{'score': 5, 'type': 'costume'}, {'score': 9,...</td>\n      <td>[欧莱雅, 瑷尔博士, 理肤泉, 肌肤之钥, 欧莱雅, 珀莱雅, 纪梵希, 花西子, 卡姿兰...</td>\n      <td>[fashion, costume]</td>\n      <td>2</td>\n    </tr>\n    <tr>\n      <th>5682</th>\n      <td>660cadaa000000000600c65c</td>\n      <td>直接锁死!24年新品持妆遮瑕气垫实测总结姐妹们听劝! 选气垫真的不要盲目跟风! 认真做功课选...</td>\n      <td>狮之舞</td>\n      <td>[{'score': 7, 'type': 'milk'}, {'score': 3, 't...</td>\n      <td>[a2, HBN, 欧诗漫]</td>\n      <td>[milk, costume]</td>\n      <td>2</td>\n    </tr>\n    <tr>\n      <th>5691</th>\n      <td>6618b42f0000000007007b8e</td>\n      <td>618可以直接allin的保湿面霜简直是干皮天堂讲真的，啥都不如面霜来的方便快捷还有效果 不...</td>\n      <td>Xiang蛋仔</td>\n      <td>[{'score': 7, 'type': 'costume'}, {'score': 3,...</td>\n      <td>[雅诗兰黛, 海蓝之谜, 兰蔻, 欧莱雅, 理肤泉, 珀莱雅, 奥克斯]</td>\n      <td>[home, costume]</td>\n      <td>2</td>\n    </tr>\n    <tr>\n      <th>5693</th>\n      <td>661a6535000000000700425c</td>\n      <td>完美日记卸妆油！！！还有没有一样好用的家里最后一点完美日记的卸妆油要用完了，然后发现完美日记...</td>\n      <td>方方圆圆的岷</td>\n      <td>[{'score': 3, 'type': 'costume'}, {'score': 3,...</td>\n      <td>[完美日记, 华莱士]</td>\n      <td>[restaurant, costume]</td>\n      <td>2</td>\n    </tr>\n    <tr>\n      <th>5712</th>\n      <td>663d7f7000000000070065da</td>\n      <td>来逛杭州一定要去吃的一家老店❗️❗️❗️开了好多年的杭帮菜馆👈还登上了必吃榜和米其林榜单⭐️...</td>\n      <td>宅猫日记</td>\n      <td>[{'score': 9, 'type': 'restaurant'}, {'score':...</td>\n      <td>[米其林, 米其林, Dior]</td>\n      <td>[restaurant, fashion]</td>\n      <td>2</td>\n    </tr>\n  </tbody>\n</table>\n<p>1380 rows × 7 columns</p>\n</div>"
     },
     "execution_count": 8,
     "metadata": {},
     "output_type": "execute_result"
    }
   ],
   "execution_count": 8
  },
  {
   "metadata": {
    "ExecuteTime": {
     "end_time": "2024-08-02T10:47:31.309632Z",
     "start_time": "2024-08-02T10:47:31.136212Z"
    }
   },
   "cell_type": "code",
   "source": [
    "df_user_by_type = filter_user_by_type(df_user, 3)\n",
    "print(f'expense - #users: {len(df_user_by_type)}')\n",
    "df_user_by_type"
   ],
   "id": "ae883313c6db0e09",
   "outputs": [
    {
     "name": "stdout",
     "output_type": "stream",
     "text": [
      "expense - #users: 416\n"
     ]
    },
    {
     "data": {
      "text/plain": "                       user_id  \\\n1     530df31ab4c4d66ff228d63a   \n6     538531d3b4c4d65abe4487f4   \n8     539cfbcdb4c4d62d66985627   \n9     53e0d07db4c4d65cf424d61d   \n13    5405ac74b4c4d61f84595822   \n...                        ...   \n5565  65379b44000000000400b1e0   \n5574  65475488000000000d00677a   \n5599  657ac6020000000020036c11   \n5628  65b325d4000000000e001a45   \n5673  66004795000000000600f948   \n\n                                                   text nickname  \\\n1     YSL 方管 17话说某一天上微博随便翻翻看看就发现了这只唇膏👀 结果我茶不思饭不想老惦记着...   脸最大的博主   \n6     宝格丽慈善款银版项链宝格丽慈善款银版项链，好赞好赞！价格超划算，比18K金的便宜好多，而且戴...       燊烨   \n8     从左至右：chanel 08 、YSL12、Dior536 、YSL17、纪梵希202；ys...    YUYU.   \n9     四月龙宝宝衣服分享每次看到好看的衣服都忍不住买买买 不过对于尺码还没什么概念 52码半背衣*...  EVAWANG   \n13    无印良品的两用眉笔真心好方便无印良品的两用眉笔真心好方便，之前一直用Bobbi Brown的...     胡桃嘉子   \n...                                                 ...      ...   \n5565  招架不住了！直接爆出好用的儿童洁面泡泡很多孩子脸上容易过敏泛红，宝妈害怕选的洁面宝宝用了会刺...    揪小狗尾巴   \n5574  我2G网了？这些宝宝洗衣液怎么才让我发现作为一位宝妈从宝宝出生开始就开始给他洗洗洗 什么尿布...    一只小胖虎   \n5599  卧卧卧卧卧，盒马出新品了！盒马的面包性价比无敌！红豆松松吐司，满满当当的肉松加上红豆是真的好...     竹海听风   \n5628  佛系收L码纸尿裤拉拉裤用宝宝准备转大码纸尿裤，好价收收收…带图带价格最好包邮合适就收。收bb...   Momo 🍎   \n5673  功课总结！618新品不晕眼线胶笔这样选准没错不晕妆眼线胶笔保姆级攻略来了 花了不少功夫整理的...    GA夜未澜   \n\n                                                  score  \\\n1     [{'score': 9, 'type': 'costume'}, {'score': 7,...   \n6     [{'score': 9, 'type': 'fashion'}, {'score': 9,...   \n8     [{'score': 9, 'type': 'fashion'}, {'score': 9,...   \n9     [{'score': 5, 'type': 'fashion'}, {'score': 7,...   \n13    [{'score': 5, 'type': 'fashion'}, {'score': 8,...   \n...                                                 ...   \n5565  [{'score': 5, 'type': 'baby'}, {'score': 1, 't...   \n5574  [{'score': 7, 'type': 'baby'}, {'score': 5, 't...   \n5599  [{'score': 5, 'type': 'supermarket'}, {'score'...   \n5628  [{'score': 9, 'type': 'baby'}, {'score': 7, 't...   \n5673  [{'score': 7, 'type': 'milk'}, {'score': 7, 't...   \n\n                                               keywords  \\\n1     [Ysl, 资生堂, 倩碧, 植村秀, 欧莱雅, 资生堂, 大宝|洗面奶, 迪奥, 雅诗兰黛...   \n6     [宝格丽, Burberry, Adidas, 宝格丽, Dior, 迪奥, Gucci, ...   \n8     [纪梵希, Dior, Ysl, 拉夫劳伦, 巴黎世家, Prada, Dior, Dior...   \n9     [优衣库, 英氏, 虎贝尔, 英氏, Gucci, Ysl, 资生堂, 爱马仕|包, 爱马仕...   \n13    [无印良品, Dior, Clarks, 雅诗兰黛, 无印良品, Clarks, 无印良品,...   \n...                                                 ...   \n5565  [戴可思, 百雀羚, 科颜氏, 兰芝, 科颜氏, 科颜氏, 兰芝, 科颜氏, 科颜氏, 兰芝...   \n5574  [英氏, 贝因美, Ysl, 小棕瓶, 雅诗兰黛, 瑷尔博士, 黛珂, 芙丽芳丝, 理肤泉,...   \n5599                                      [盒马, a2, 普拉达]   \n5628  [露安适, babycare, 合生元, 合生元, 小皮|辅食, 合生元, 合生元, HEG...   \n5673                [a2, 植村秀, 阿玛尼, 毛戈平, 欧莱雅, 花西子, 纽西之谜]   \n\n                               unique_type  type_cnt  \n1                 [fashion, milk, costume]         3  \n6              [fashion, digital, costume]         3  \n8              [bicycle, fashion, costume]         3  \n9                 [fashion, baby, costume]         3  \n13    [home, restaurant, fashion, costume]         4  \n...                                    ...       ...  \n5565              [fashion, baby, costume]         3  \n5574                 [milk, baby, costume]         3  \n5599          [fashion, milk, supermarket]         3  \n5628                 [milk, baby, costume]         3  \n5673              [fashion, milk, costume]         3  \n\n[416 rows x 7 columns]",
      "text/html": "<div>\n<style scoped>\n    .dataframe tbody tr th:only-of-type {\n        vertical-align: middle;\n    }\n\n    .dataframe tbody tr th {\n        vertical-align: top;\n    }\n\n    .dataframe thead th {\n        text-align: right;\n    }\n</style>\n<table border=\"1\" class=\"dataframe\">\n  <thead>\n    <tr style=\"text-align: right;\">\n      <th></th>\n      <th>user_id</th>\n      <th>text</th>\n      <th>nickname</th>\n      <th>score</th>\n      <th>keywords</th>\n      <th>unique_type</th>\n      <th>type_cnt</th>\n    </tr>\n  </thead>\n  <tbody>\n    <tr>\n      <th>1</th>\n      <td>530df31ab4c4d66ff228d63a</td>\n      <td>YSL 方管 17话说某一天上微博随便翻翻看看就发现了这只唇膏👀 结果我茶不思饭不想老惦记着...</td>\n      <td>脸最大的博主</td>\n      <td>[{'score': 9, 'type': 'costume'}, {'score': 7,...</td>\n      <td>[Ysl, 资生堂, 倩碧, 植村秀, 欧莱雅, 资生堂, 大宝|洗面奶, 迪奥, 雅诗兰黛...</td>\n      <td>[fashion, milk, costume]</td>\n      <td>3</td>\n    </tr>\n    <tr>\n      <th>6</th>\n      <td>538531d3b4c4d65abe4487f4</td>\n      <td>宝格丽慈善款银版项链宝格丽慈善款银版项链，好赞好赞！价格超划算，比18K金的便宜好多，而且戴...</td>\n      <td>燊烨</td>\n      <td>[{'score': 9, 'type': 'fashion'}, {'score': 9,...</td>\n      <td>[宝格丽, Burberry, Adidas, 宝格丽, Dior, 迪奥, Gucci, ...</td>\n      <td>[fashion, digital, costume]</td>\n      <td>3</td>\n    </tr>\n    <tr>\n      <th>8</th>\n      <td>539cfbcdb4c4d62d66985627</td>\n      <td>从左至右：chanel 08 、YSL12、Dior536 、YSL17、纪梵希202；ys...</td>\n      <td>YUYU.</td>\n      <td>[{'score': 9, 'type': 'fashion'}, {'score': 9,...</td>\n      <td>[纪梵希, Dior, Ysl, 拉夫劳伦, 巴黎世家, Prada, Dior, Dior...</td>\n      <td>[bicycle, fashion, costume]</td>\n      <td>3</td>\n    </tr>\n    <tr>\n      <th>9</th>\n      <td>53e0d07db4c4d65cf424d61d</td>\n      <td>四月龙宝宝衣服分享每次看到好看的衣服都忍不住买买买 不过对于尺码还没什么概念 52码半背衣*...</td>\n      <td>EVAWANG</td>\n      <td>[{'score': 5, 'type': 'fashion'}, {'score': 7,...</td>\n      <td>[优衣库, 英氏, 虎贝尔, 英氏, Gucci, Ysl, 资生堂, 爱马仕|包, 爱马仕...</td>\n      <td>[fashion, baby, costume]</td>\n      <td>3</td>\n    </tr>\n    <tr>\n      <th>13</th>\n      <td>5405ac74b4c4d61f84595822</td>\n      <td>无印良品的两用眉笔真心好方便无印良品的两用眉笔真心好方便，之前一直用Bobbi Brown的...</td>\n      <td>胡桃嘉子</td>\n      <td>[{'score': 5, 'type': 'fashion'}, {'score': 8,...</td>\n      <td>[无印良品, Dior, Clarks, 雅诗兰黛, 无印良品, Clarks, 无印良品,...</td>\n      <td>[home, restaurant, fashion, costume]</td>\n      <td>4</td>\n    </tr>\n    <tr>\n      <th>...</th>\n      <td>...</td>\n      <td>...</td>\n      <td>...</td>\n      <td>...</td>\n      <td>...</td>\n      <td>...</td>\n      <td>...</td>\n    </tr>\n    <tr>\n      <th>5565</th>\n      <td>65379b44000000000400b1e0</td>\n      <td>招架不住了！直接爆出好用的儿童洁面泡泡很多孩子脸上容易过敏泛红，宝妈害怕选的洁面宝宝用了会刺...</td>\n      <td>揪小狗尾巴</td>\n      <td>[{'score': 5, 'type': 'baby'}, {'score': 1, 't...</td>\n      <td>[戴可思, 百雀羚, 科颜氏, 兰芝, 科颜氏, 科颜氏, 兰芝, 科颜氏, 科颜氏, 兰芝...</td>\n      <td>[fashion, baby, costume]</td>\n      <td>3</td>\n    </tr>\n    <tr>\n      <th>5574</th>\n      <td>65475488000000000d00677a</td>\n      <td>我2G网了？这些宝宝洗衣液怎么才让我发现作为一位宝妈从宝宝出生开始就开始给他洗洗洗 什么尿布...</td>\n      <td>一只小胖虎</td>\n      <td>[{'score': 7, 'type': 'baby'}, {'score': 5, 't...</td>\n      <td>[英氏, 贝因美, Ysl, 小棕瓶, 雅诗兰黛, 瑷尔博士, 黛珂, 芙丽芳丝, 理肤泉,...</td>\n      <td>[milk, baby, costume]</td>\n      <td>3</td>\n    </tr>\n    <tr>\n      <th>5599</th>\n      <td>657ac6020000000020036c11</td>\n      <td>卧卧卧卧卧，盒马出新品了！盒马的面包性价比无敌！红豆松松吐司，满满当当的肉松加上红豆是真的好...</td>\n      <td>竹海听风</td>\n      <td>[{'score': 5, 'type': 'supermarket'}, {'score'...</td>\n      <td>[盒马, a2, 普拉达]</td>\n      <td>[fashion, milk, supermarket]</td>\n      <td>3</td>\n    </tr>\n    <tr>\n      <th>5628</th>\n      <td>65b325d4000000000e001a45</td>\n      <td>佛系收L码纸尿裤拉拉裤用宝宝准备转大码纸尿裤，好价收收收…带图带价格最好包邮合适就收。收bb...</td>\n      <td>Momo 🍎</td>\n      <td>[{'score': 9, 'type': 'baby'}, {'score': 7, 't...</td>\n      <td>[露安适, babycare, 合生元, 合生元, 小皮|辅食, 合生元, 合生元, HEG...</td>\n      <td>[milk, baby, costume]</td>\n      <td>3</td>\n    </tr>\n    <tr>\n      <th>5673</th>\n      <td>66004795000000000600f948</td>\n      <td>功课总结！618新品不晕眼线胶笔这样选准没错不晕妆眼线胶笔保姆级攻略来了 花了不少功夫整理的...</td>\n      <td>GA夜未澜</td>\n      <td>[{'score': 7, 'type': 'milk'}, {'score': 7, 't...</td>\n      <td>[a2, 植村秀, 阿玛尼, 毛戈平, 欧莱雅, 花西子, 纽西之谜]</td>\n      <td>[fashion, milk, costume]</td>\n      <td>3</td>\n    </tr>\n  </tbody>\n</table>\n<p>416 rows × 7 columns</p>\n</div>"
     },
     "execution_count": 9,
     "metadata": {},
     "output_type": "execute_result"
    }
   ],
   "execution_count": 9
  },
  {
   "metadata": {},
   "cell_type": "code",
   "outputs": [],
   "execution_count": null,
   "source": [],
   "id": "4540895eee250e71"
  }
 ],
 "metadata": {
  "kernelspec": {
   "display_name": "Python 3",
   "language": "python",
   "name": "python3"
  },
  "language_info": {
   "codemirror_mode": {
    "name": "ipython",
    "version": 2
   },
   "file_extension": ".py",
   "mimetype": "text/x-python",
   "name": "python",
   "nbconvert_exporter": "python",
   "pygments_lexer": "ipython2",
   "version": "2.7.6"
  }
 },
 "nbformat": 4,
 "nbformat_minor": 5
}
