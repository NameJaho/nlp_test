{
 "cells": [
  {
   "cell_type": "code",
   "id": "initial_id",
   "metadata": {
    "collapsed": true,
    "ExecuteTime": {
     "end_time": "2024-08-01T02:52:59.174857Z",
     "start_time": "2024-08-01T02:52:58.817144Z"
    }
   },
   "source": [
    "import warnings\n",
    "from user_profile.profile_service import *\n",
    "\n",
    "warnings.filterwarnings('ignore')\n",
    "\n",
    "INPUT_FILE = 'data/cleanup_5w_users.pkl'\n",
    "CONFIG_FILE = 'config/config.yaml'\n",
    "DOMAIN = 'EXPENSE'"
   ],
   "outputs": [
    {
     "name": "stdout",
     "output_type": "stream",
     "text": [
      "INFO: Pandarallel will run on 8 workers.\n",
      "INFO: Pandarallel will use standard multiprocessing data transfer (pipe) to transfer data between the main process and workers.\n"
     ]
    }
   ],
   "execution_count": 1
  },
  {
   "metadata": {
    "ExecuteTime": {
     "end_time": "2024-08-01T02:52:59.724161Z",
     "start_time": "2024-08-01T02:52:59.644447Z"
    }
   },
   "cell_type": "code",
   "source": [
    "# load config\n",
    "config = load_config(CONFIG_FILE)\n",
    "\n",
    "global_nickname_blacklist = get_global_nickname_blacklist(config)\n",
    "domain_nickname_blacklist = get_domain_nicknames_blacklist(config, domain=DOMAIN)\n",
    "\n",
    "confuse_blacklist = get_confuse_blacklist(config, domain=DOMAIN)\n",
    "\n",
    "domain_content_whitelist = get_content_whitelist(config, domain=DOMAIN)\n",
    "domain_content_blacklist = get_content_blacklist(config, domain=DOMAIN)"
   ],
   "id": "2503e96f2bee272d",
   "outputs": [],
   "execution_count": 2
  },
  {
   "metadata": {
    "ExecuteTime": {
     "end_time": "2024-08-01T02:53:12.975830Z",
     "start_time": "2024-08-01T02:53:00.280190Z"
    }
   },
   "cell_type": "code",
   "source": [
    "# load data then remove global biz user\n",
    "df = load_data(INPUT_FILE, file_format='pkl')\n",
    "df = remove_biz_user(df, global_nickname_blacklist)\n",
    "df = remove_biz_user(df, domain_nickname_blacklist)\n",
    "len(df)"
   ],
   "id": "fd0772e37dd8e5f8",
   "outputs": [
    {
     "data": {
      "text/plain": "437317"
     },
     "execution_count": 3,
     "metadata": {},
     "output_type": "execute_result"
    }
   ],
   "execution_count": 3
  },
  {
   "metadata": {
    "ExecuteTime": {
     "end_time": "2024-08-01T02:53:45.405764Z",
     "start_time": "2024-08-01T02:53:12.974563Z"
    }
   },
   "cell_type": "code",
   "source": [
    "df_filtered = filter_by_score(df, domain_content_whitelist, domain_content_blacklist, confuse_blacklist)\n",
    "df_filtered"
   ],
   "id": "d6a42995ec7b89df",
   "outputs": [
    {
     "name": "stdout",
     "output_type": "stream",
     "text": [
      "***[2 🎉楼下星巴克咖啡☕️，] confuses matched:['楼下'] \n",
      "***[：万达一层三福对面 滕州] confuses matched:['对面'] \n",
      "***[店铺位置在百丽华商店旁边] confuses matched:['旁边'] \n",
      "***[20（就在万达文华酒店旁边。] confuses matched:['旁边'] \n",
      "***[境： 对于璞丽酒店楼下停] confuses matched:['楼下'] \n",
      "***[295号（锦江之星楼下） 开] confuses matched:['楼下'] \n",
      "***[好，楼下是盒马，后面有大] confuses matched:['楼下'] \n",
      "***[店对面这家星巴克，宽敞人少] confuses matched:['对面'] \n",
      "***[可以去隔壁万达文华溜达吃下午] confuses matched:['隔壁'] \n",
      "***[万达一楼，优衣库旁边~] confuses matched:['旁边'] \n",
      "***[1368号wagas旁边] confuses matched:['旁边'] \n",
      "***[机场附近的宜必思尚品ibi] confuses matched:['附近'] \n",
      "***[翠湖附近的星巴克 环境十分] confuses matched:['附近'] \n",
      "***[接冲去隔壁nike买了件长款] confuses matched:['隔壁'] \n",
      "***[东区2楼（星巴克楼上）] confuses matched:['楼上'] \n",
      "***[是没去隔壁皇冠假日逛逛] confuses matched:['隔壁'] \n",
      "***[楼336A星巴克正对面 开] confuses matched:['对面'] \n",
      "***[公区和旁边华邑共享，泳池] confuses matched:['旁边'] \n",
      "***[二层南端(无印良品对面) \t] confuses matched:['对面'] \n",
      "***[在老门东 星巴克旁边 环境] confuses matched:['旁边'] \n",
      "***[之眼附近 如家商旅 格林] confuses matched:['附近'] \n",
      "***[如家商旅 格林豪泰都在那附近] confuses matched:['附近'] \n",
      "***[达，隔壁是蜜雪冰城，要仔细一] confuses matched:['隔壁'] ***[，我们就从洲际酒店对面的] confuses matched:['对面'] \n",
      "\n",
      "***[ \t 比如盒马就在对面日] confuses matched:['对面'] \n",
      "***[知道你楼下迪奥彩妆的态度] confuses matched:['楼下'] \n",
      "***[站2号口,星巴克对面、近白] confuses matched:['对面'] \n",
      "***[～～～奥林匹克附近的恒隆] confuses matched:['附近'] \n",
      "***[旁边新开了adidas店 5.1] confuses matched:['旁边'] \n",
      "***[广场一楼（盒马旁边）10] confuses matched:['旁边'] \n",
      "***[铁站旁边的美豪，住在那千] confuses matched:['旁边'] ***[铁公祠附近白玉兰已到盛花期] confuses matched:['附近'] \n",
      "\n",
      "***[100米的宜必思酒店旁边的] confuses matched:['旁边'] \n",
      "***[铁站🚄附近亚朵酒店（床品] confuses matched:['附近'] \n",
      "***[铁站🚄附近亚朵酒店（床品] confuses matched:['附近'] \n",
      "***[旁边拍照，其乐融融。还有] confuses matched:['旁边'] \n",
      "***[ 在盛天地星巴克旁边！下楼] confuses matched:['旁边'] \n",
      "***[ 万象天地Lululemon旁边 【营] confuses matched:['旁边'] \n",
      "***[ 万象天地Lululemon旁边 【营] confuses matched:['旁边'] \n",
      "***[三巴旁边的优衣库二楼+恋爱] confuses matched:['旁边'] \n",
      "***[路。（上海白玉兰广场对面）] confuses matched:['对面'] \n",
      "***[号(洪崖洞星巴克马路对面)] confuses matched:['对面'] \n",
      "***[玛特商业街蜜雪冰城斜对面，阿] confuses matched:['对面'] \n",
      "***[址：西大街蜜雪冰城斜对面 人] confuses matched:['对面'] \n",
      "***[科巷附近的亚朵，觉得位置] confuses matched:['附近'] \n",
      "***[科巷附近的亚朵，觉得位置] confuses matched:['附近'] \n",
      "***[达广场A区李宁对面] confuses matched:['对面'] \n",
      "***[岛站附近的汉庭；白天到建] confuses matched:['附近'] \n",
      "***[岛站附近的汉庭；白天到建] confuses matched:['附近'] \n",
      "***[广场附近（桔子水晶或者是奥帆] confuses matched:['附近'] \n",
      "***[奥帆附近的汉庭）🔜🔜🔜💒] confuses matched:['附近'] \n",
      "***[铁站附近有如家）🔜🔜🔜早] confuses matched:['附近'] \n",
      "***[奥帆附近的汉庭）🔜🔜🔜💒] confuses matched:['附近'] \n",
      "***[好找，就在星巴克旁边。 我] confuses matched:['旁边'] \n",
      "***[好感和隔壁蜜雪冰城一样，他开] confuses matched:['隔壁'] \n",
      "***[店附近看到盒马，这家感觉] confuses matched:['附近'] \n",
      "***[去家楼下的盒马看“大鱼鱼] confuses matched:['楼下'] \n",
      "***[，楼下就是盒马形成华润万] confuses matched:['楼下'] \n",
      "***[场里，楼上盒马，想问下姐] confuses matched:['楼上'] \n",
      "***[店，隔壁是星巴克，书店分两] confuses matched:['隔壁'] \n",
      "***[漳州大学城a2附近 城职] confuses matched:['附近'] \n",
      "***[公司楼下的香满楼在门口布置] confuses matched:['楼下'] \n",
      "***[附近的昆明亚朵酒店（提前] confuses matched:['附近'] \n",
      "***[附近的昆明亚朵酒店（提前] confuses matched:['附近'] \n",
      "***[科巷附近的如家，走过两个] confuses matched:['附近'] \n",
      "***[楼438(李宁隔壁CHU] confuses matched:['隔壁'] \n",
      "***[，旁边有个蜜雪冰城 🧡是那种] confuses matched:['旁边'] \n",
      "***[钟 附近有盒马超市 奶茶] confuses matched:['附近'] \n",
      "***[广场附近(如家旗下睿柏酒] confuses matched:['附近'] \n",
      "***[一直在附近星巴克坐到了快1] confuses matched:['附近'] \n",
      "***[门口旁边有盒马菜场跟超市] confuses matched:['旁边'] \n",
      "***[对面有奥林匹克公园，可以] confuses matched:['对面'] \n",
      "***[乐乐茶对面星巴克旁边找到了] confuses matched:['旁边', '对面'] \n",
      "***[沙古镇附近Clubmed也不错，到] confuses matched:['附近'] \n",
      "***[影城北隔壁奥康皮鞋二楼 ] confuses matched:['隔壁'] ***[路230号亚朵酒店隔壁 ] confuses matched:['隔壁'] \n",
      "\n",
      "***[路230号亚朵酒店隔壁 ] confuses matched:['隔壁'] \n",
      "***[，但附近有星巴克和别的咖啡] confuses matched:['附近'] \n",
      "***[和对面还有蜜雪冰城和沪上阿姨] confuses matched:['对面'] \n",
      "***[1368号wagas旁边] confuses matched:['旁边'] \n",
      "***[们这次住的四季酒店，四季旁边] confuses matched:['旁边'] \n",
      "***[四季旁边的嘉佩乐酒店，靠河] confuses matched:['旁边'] \n",
      "***[们这次住的四季酒店，四季旁边] confuses matched:['旁边'] \n",
      "***[(北区3楼星巴克对面可以穿] confuses matched:['对面'] \n",
      "***[ 旁边的陈天润急忙捂住姚] confuses matched:['旁边'] \n",
      "***[路到对面的捷安特店租车，店] confuses matched:['对面'] \n",
      "***[赶上对面的优衣库了（修辞手] confuses matched:['对面'] \n",
      "***[以（附近就白公馆和渣滓洞，] confuses matched:['附近'] \n",
      "***[去免税L层雅诗兰黛对面的红色] confuses matched:['对面'] \n",
      "***[，再去1楼兰蔻对面排队，] confuses matched:['对面'] \n",
      "***[\t 另外，花西子那边儿旁边] confuses matched:['旁边'] \n",
      "***[是去旁边的优衣库买夏装 换] confuses matched:['旁边'] \n",
      "***[悦城负一 优衣库旁边 很好] confuses matched:['旁边'] \n",
      "***[？没事儿，盒马就在家附近] confuses matched:['附近'] \n",
      "***[到了附近的优衣库买了条裤子] confuses matched:['附近'] \n"
     ]
    },
    {
     "data": {
      "text/plain": "                                                  content  \\\n12         星巴克星冰乐，在家也能喝上啦～4种口味！ 冷藏一下，出门加班提神很不错！ 4种口味都很喜欢！   \n39      重庆新店IFSLV新店，让我意外惊喜的买到了我心仪已久的nano 真的激动的不得了 Sa之前...   \n67      从左至右：chanel 08 、YSL12、Dior536 、YSL17、纪梵希202；ys...   \n69      第一次发笔记，一直都是默默关注只看不发[哭] 兰蔻塑颜法式提拉晚霜[酷] 一直都是兰蔻的NC...   \n71      面部需要保养颈部也需要保养哦。雅诗兰黛这款面颈霜很好吸收，也不油腻，涂在肌肤上感觉很紧实，会...   \n...                                                   ...   \n539567   ✨DiorB27做工 细节都堪称完美！ ❤️面料采用牛皮顶级 ❤️内里透丝面料，柔软舒适，...   \n539578  草莓轻乳酪星冰乐🍓 推荐指数🌟🌟🌟🌟 绵密的沙冰口感，浓郁的草莓酱覆盖味蕾，还有草莓果肉和黄...   \n539585  我以前从来不觉得我可以用完一支口红 直到我遇到了兰蔻小蛮腰 196已经快被我撸完了 \\t 试...   \n539591  星巴克谐音梗我也学会啦星巴克低卡柠檬茶也是超级好喝哦酸酸甜甜如溜溜梅般酸爽！夏天清凉解暑，不...   \n539605                 尖锐鞋头、打破常规橡胶底片非常机能的设计，加上标志性的三角大Logo   \n\n                                        _id            source  \\\n12      {\"$oid\":\"65a6d028ceec5601ea4125da\"}  user_post_day_up   \n39      {\"$oid\":\"6599ba12be99859365af8550\"}         user_post   \n67      {\"$oid\":\"65a0ca2836e5d385614f17b9\"}      user_collect   \n69      {\"$oid\":\"65a042d0328e8131714899bf\"}         user_post   \n71      {\"$oid\":\"65a042d0e4ae081dd22c9bf9\"}         user_post   \n...                                     ...               ...   \n539567  {\"$oid\":\"657a2b34350c4aa1728c015f\"}         user_post   \n539578  {\"$oid\":\"657a59333abb8b2099874e61\"}         user_post   \n539585  {\"$oid\":\"657a43fc3abb8b20998250bc\"}      user_collect   \n539591  {\"$oid\":\"657a5933cfd4f18d6f7add69\"}         user_post   \n539605  {\"$oid\":\"657a44f5350c4aa172925c0d\"}         user_post   \n\n                         note_id     nickname                   user_id  \\\n12      65353467000000002202fd2c         呀呀呀呀  55784397a75c952e1e71775d   \n39      5a3146d819f7161df561f1e6        喵吱T^T  554b9cecaf81471d75a00400   \n67      5490cc39b4c4d64a7a6a58b0        YUYU.  539cfbcdb4c4d62d66985627   \n69      55bef231d6e4a94b8421686e  小红薯27EE46D5  55b23b86c2bdeb4b8e321f61   \n71      55c2ce6bd6e4a90d5041a9e1  小红薯27EE46D5  55b23b86c2bdeb4b8e321f61   \n...                          ...          ...                       ...   \n539567  626b9a490000000001026b90          乌托邦  5b8c2470d49ec200015c7825   \n539578  626e13db0000000001025673        Vievv  5bf4ee69e9294d0001eeceb6   \n539585  626f970d000000000102f10b    Necooooo🎈  60ed91a2000000000101fa7a   \n539591  6270bab1000000002103e56e        Vievv  5bf4ee69e9294d0001eeceb6   \n539605  6273966e000000000102f8b2      林binbin  5bc5a7b78f3d4800016d57d4   \n\n          type  collected_count  comment_count  share_count  ... career field  \\\n12      normal                0              0            0  ...    NaN   NaN   \n39      normal                3              4            0  ...    NaN   NaN   \n67      normal               10             10            0  ...    NaN   NaN   \n69      normal                4              0            0  ...    NaN   NaN   \n71      normal                4              0            1  ...    NaN   NaN   \n...        ...              ...            ...          ...  ...    ...   ...   \n539567  normal                0              0            0  ...    NaN   NaN   \n539578  normal                8             10           10  ...    NaN   NaN   \n539585  normal               10            100            0  ...    NaN   NaN   \n539591  normal                6              0            2  ...    NaN   NaN   \n539605  normal                0              0            0  ...    NaN   NaN   \n\n       education  cert if_exists_comment sale_flag  keep  \\\n12           NaN   NaN                 0         0     1   \n39           NaN   NaN                 4         0     1   \n67           NaN   NaN                19         0     1   \n69           NaN   NaN                 0         0     1   \n71           NaN   NaN                 0         0     1   \n...          ...   ...               ...       ...   ...   \n539567       NaN   NaN                 0         0     1   \n539578       NaN   NaN                10         0     1   \n539585       NaN   NaN                12         0     1   \n539591       NaN   NaN                 0         0     1   \n539605       NaN   NaN                 0         0     1   \n\n                                                     text  \\\n12      星巴克星冰乐，在家也能喝上啦～4种口味！ 冷藏一下，出门加班提神很不错！ 4种口味都很喜欢！星巴克   \n39      LV 套娃三合一以及speedy nano小枕头包重庆新店IFSLV新店，让我意外惊喜的买到...   \n67      从左至右：chanel 08 、YSL12、Dior536 、YSL17、纪梵希202；ys...   \n69      第一次发笔记第一次发笔记，一直都是默默关注只看不发[哭] 兰蔻塑颜法式提拉晚霜[酷] 一直都...   \n71      面部需要保养颈部也需要保养哦面部需要保养颈部也需要保养哦。雅诗兰黛这款面颈霜很好吸收，也不油...   \n...                                                   ...   \n539567  迪奥这款脚感超好，nba众多球星上脚 ✨DiorB27做工 细节都堪称完美！ ❤️面料采用牛...   \n539578  五一假期星巴克新宠🍓草莓轻乳酪星冰乐🍓 推荐指数🌟🌟🌟🌟 绵密的沙冰口感，浓郁的草莓酱覆盖味...   \n539585  兰蔻小蛮腰唇釉我以前从来不觉得我可以用完一支口红 直到我遇到了兰蔻小蛮腰 196已经快被我撸...   \n539591  星巴克谐音梗➕低卡柠檬茶隐藏配方🌟星巴克谐音梗我也学会啦星巴克低卡柠檬茶也是超级好喝哦酸酸甜...   \n539605  𝐏𝐑𝐀𝐃𝐀普拉达2022系列不用多说绝对是爆尖锐鞋头、打破常规橡胶底片非常机能的设计，加上标...   \n\n                                       score      keywords  \n12      [{'score': 7, 'type': 'restaurant'}]         [星巴克]  \n39           [{'score': 9, 'type': 'brand'}]        [LV|包]  \n67           [{'score': 9, 'type': 'brand'}]   [纪梵希, Dior]  \n69           [{'score': 6, 'type': 'brand'}]          [兰蔻]  \n71           [{'score': 6, 'type': 'brand'}]        [雅诗兰黛]  \n...                                      ...           ...  \n539567       [{'score': 8, 'type': 'brand'}]    [Dior, 迪奥]  \n539578  [{'score': 7, 'type': 'restaurant'}]         [星巴克]  \n539585       [{'score': 6, 'type': 'brand'}]          [兰蔻]  \n539591  [{'score': 7, 'type': 'restaurant'}]         [星巴克]  \n539605       [{'score': 9, 'type': 'brand'}]  [普拉达, Prada]  \n\n[9814 rows x 45 columns]",
      "text/html": "<div>\n<style scoped>\n    .dataframe tbody tr th:only-of-type {\n        vertical-align: middle;\n    }\n\n    .dataframe tbody tr th {\n        vertical-align: top;\n    }\n\n    .dataframe thead th {\n        text-align: right;\n    }\n</style>\n<table border=\"1\" class=\"dataframe\">\n  <thead>\n    <tr style=\"text-align: right;\">\n      <th></th>\n      <th>content</th>\n      <th>_id</th>\n      <th>source</th>\n      <th>note_id</th>\n      <th>nickname</th>\n      <th>user_id</th>\n      <th>type</th>\n      <th>collected_count</th>\n      <th>comment_count</th>\n      <th>share_count</th>\n      <th>...</th>\n      <th>career</th>\n      <th>field</th>\n      <th>education</th>\n      <th>cert</th>\n      <th>if_exists_comment</th>\n      <th>sale_flag</th>\n      <th>keep</th>\n      <th>text</th>\n      <th>score</th>\n      <th>keywords</th>\n    </tr>\n  </thead>\n  <tbody>\n    <tr>\n      <th>12</th>\n      <td>星巴克星冰乐，在家也能喝上啦～4种口味！ 冷藏一下，出门加班提神很不错！ 4种口味都很喜欢！</td>\n      <td>{\"$oid\":\"65a6d028ceec5601ea4125da\"}</td>\n      <td>user_post_day_up</td>\n      <td>65353467000000002202fd2c</td>\n      <td>呀呀呀呀</td>\n      <td>55784397a75c952e1e71775d</td>\n      <td>normal</td>\n      <td>0</td>\n      <td>0</td>\n      <td>0</td>\n      <td>...</td>\n      <td>NaN</td>\n      <td>NaN</td>\n      <td>NaN</td>\n      <td>NaN</td>\n      <td>0</td>\n      <td>0</td>\n      <td>1</td>\n      <td>星巴克星冰乐，在家也能喝上啦～4种口味！ 冷藏一下，出门加班提神很不错！ 4种口味都很喜欢！星巴克</td>\n      <td>[{'score': 7, 'type': 'restaurant'}]</td>\n      <td>[星巴克]</td>\n    </tr>\n    <tr>\n      <th>39</th>\n      <td>重庆新店IFSLV新店，让我意外惊喜的买到了我心仪已久的nano 真的激动的不得了 Sa之前...</td>\n      <td>{\"$oid\":\"6599ba12be99859365af8550\"}</td>\n      <td>user_post</td>\n      <td>5a3146d819f7161df561f1e6</td>\n      <td>喵吱T^T</td>\n      <td>554b9cecaf81471d75a00400</td>\n      <td>normal</td>\n      <td>3</td>\n      <td>4</td>\n      <td>0</td>\n      <td>...</td>\n      <td>NaN</td>\n      <td>NaN</td>\n      <td>NaN</td>\n      <td>NaN</td>\n      <td>4</td>\n      <td>0</td>\n      <td>1</td>\n      <td>LV 套娃三合一以及speedy nano小枕头包重庆新店IFSLV新店，让我意外惊喜的买到...</td>\n      <td>[{'score': 9, 'type': 'brand'}]</td>\n      <td>[LV|包]</td>\n    </tr>\n    <tr>\n      <th>67</th>\n      <td>从左至右：chanel 08 、YSL12、Dior536 、YSL17、纪梵希202；ys...</td>\n      <td>{\"$oid\":\"65a0ca2836e5d385614f17b9\"}</td>\n      <td>user_collect</td>\n      <td>5490cc39b4c4d64a7a6a58b0</td>\n      <td>YUYU.</td>\n      <td>539cfbcdb4c4d62d66985627</td>\n      <td>normal</td>\n      <td>10</td>\n      <td>10</td>\n      <td>0</td>\n      <td>...</td>\n      <td>NaN</td>\n      <td>NaN</td>\n      <td>NaN</td>\n      <td>NaN</td>\n      <td>19</td>\n      <td>0</td>\n      <td>1</td>\n      <td>从左至右：chanel 08 、YSL12、Dior536 、YSL17、纪梵希202；ys...</td>\n      <td>[{'score': 9, 'type': 'brand'}]</td>\n      <td>[纪梵希, Dior]</td>\n    </tr>\n    <tr>\n      <th>69</th>\n      <td>第一次发笔记，一直都是默默关注只看不发[哭] 兰蔻塑颜法式提拉晚霜[酷] 一直都是兰蔻的NC...</td>\n      <td>{\"$oid\":\"65a042d0328e8131714899bf\"}</td>\n      <td>user_post</td>\n      <td>55bef231d6e4a94b8421686e</td>\n      <td>小红薯27EE46D5</td>\n      <td>55b23b86c2bdeb4b8e321f61</td>\n      <td>normal</td>\n      <td>4</td>\n      <td>0</td>\n      <td>0</td>\n      <td>...</td>\n      <td>NaN</td>\n      <td>NaN</td>\n      <td>NaN</td>\n      <td>NaN</td>\n      <td>0</td>\n      <td>0</td>\n      <td>1</td>\n      <td>第一次发笔记第一次发笔记，一直都是默默关注只看不发[哭] 兰蔻塑颜法式提拉晚霜[酷] 一直都...</td>\n      <td>[{'score': 6, 'type': 'brand'}]</td>\n      <td>[兰蔻]</td>\n    </tr>\n    <tr>\n      <th>71</th>\n      <td>面部需要保养颈部也需要保养哦。雅诗兰黛这款面颈霜很好吸收，也不油腻，涂在肌肤上感觉很紧实，会...</td>\n      <td>{\"$oid\":\"65a042d0e4ae081dd22c9bf9\"}</td>\n      <td>user_post</td>\n      <td>55c2ce6bd6e4a90d5041a9e1</td>\n      <td>小红薯27EE46D5</td>\n      <td>55b23b86c2bdeb4b8e321f61</td>\n      <td>normal</td>\n      <td>4</td>\n      <td>0</td>\n      <td>1</td>\n      <td>...</td>\n      <td>NaN</td>\n      <td>NaN</td>\n      <td>NaN</td>\n      <td>NaN</td>\n      <td>0</td>\n      <td>0</td>\n      <td>1</td>\n      <td>面部需要保养颈部也需要保养哦面部需要保养颈部也需要保养哦。雅诗兰黛这款面颈霜很好吸收，也不油...</td>\n      <td>[{'score': 6, 'type': 'brand'}]</td>\n      <td>[雅诗兰黛]</td>\n    </tr>\n    <tr>\n      <th>...</th>\n      <td>...</td>\n      <td>...</td>\n      <td>...</td>\n      <td>...</td>\n      <td>...</td>\n      <td>...</td>\n      <td>...</td>\n      <td>...</td>\n      <td>...</td>\n      <td>...</td>\n      <td>...</td>\n      <td>...</td>\n      <td>...</td>\n      <td>...</td>\n      <td>...</td>\n      <td>...</td>\n      <td>...</td>\n      <td>...</td>\n      <td>...</td>\n      <td>...</td>\n      <td>...</td>\n    </tr>\n    <tr>\n      <th>539567</th>\n      <td>✨DiorB27做工 细节都堪称完美！ ❤️面料采用牛皮顶级 ❤️内里透丝面料，柔软舒适，...</td>\n      <td>{\"$oid\":\"657a2b34350c4aa1728c015f\"}</td>\n      <td>user_post</td>\n      <td>626b9a490000000001026b90</td>\n      <td>乌托邦</td>\n      <td>5b8c2470d49ec200015c7825</td>\n      <td>normal</td>\n      <td>0</td>\n      <td>0</td>\n      <td>0</td>\n      <td>...</td>\n      <td>NaN</td>\n      <td>NaN</td>\n      <td>NaN</td>\n      <td>NaN</td>\n      <td>0</td>\n      <td>0</td>\n      <td>1</td>\n      <td>迪奥这款脚感超好，nba众多球星上脚 ✨DiorB27做工 细节都堪称完美！ ❤️面料采用牛...</td>\n      <td>[{'score': 8, 'type': 'brand'}]</td>\n      <td>[Dior, 迪奥]</td>\n    </tr>\n    <tr>\n      <th>539578</th>\n      <td>草莓轻乳酪星冰乐🍓 推荐指数🌟🌟🌟🌟 绵密的沙冰口感，浓郁的草莓酱覆盖味蕾，还有草莓果肉和黄...</td>\n      <td>{\"$oid\":\"657a59333abb8b2099874e61\"}</td>\n      <td>user_post</td>\n      <td>626e13db0000000001025673</td>\n      <td>Vievv</td>\n      <td>5bf4ee69e9294d0001eeceb6</td>\n      <td>normal</td>\n      <td>8</td>\n      <td>10</td>\n      <td>10</td>\n      <td>...</td>\n      <td>NaN</td>\n      <td>NaN</td>\n      <td>NaN</td>\n      <td>NaN</td>\n      <td>10</td>\n      <td>0</td>\n      <td>1</td>\n      <td>五一假期星巴克新宠🍓草莓轻乳酪星冰乐🍓 推荐指数🌟🌟🌟🌟 绵密的沙冰口感，浓郁的草莓酱覆盖味...</td>\n      <td>[{'score': 7, 'type': 'restaurant'}]</td>\n      <td>[星巴克]</td>\n    </tr>\n    <tr>\n      <th>539585</th>\n      <td>我以前从来不觉得我可以用完一支口红 直到我遇到了兰蔻小蛮腰 196已经快被我撸完了 \\t 试...</td>\n      <td>{\"$oid\":\"657a43fc3abb8b20998250bc\"}</td>\n      <td>user_collect</td>\n      <td>626f970d000000000102f10b</td>\n      <td>Necooooo🎈</td>\n      <td>60ed91a2000000000101fa7a</td>\n      <td>normal</td>\n      <td>10</td>\n      <td>100</td>\n      <td>0</td>\n      <td>...</td>\n      <td>NaN</td>\n      <td>NaN</td>\n      <td>NaN</td>\n      <td>NaN</td>\n      <td>12</td>\n      <td>0</td>\n      <td>1</td>\n      <td>兰蔻小蛮腰唇釉我以前从来不觉得我可以用完一支口红 直到我遇到了兰蔻小蛮腰 196已经快被我撸...</td>\n      <td>[{'score': 6, 'type': 'brand'}]</td>\n      <td>[兰蔻]</td>\n    </tr>\n    <tr>\n      <th>539591</th>\n      <td>星巴克谐音梗我也学会啦星巴克低卡柠檬茶也是超级好喝哦酸酸甜甜如溜溜梅般酸爽！夏天清凉解暑，不...</td>\n      <td>{\"$oid\":\"657a5933cfd4f18d6f7add69\"}</td>\n      <td>user_post</td>\n      <td>6270bab1000000002103e56e</td>\n      <td>Vievv</td>\n      <td>5bf4ee69e9294d0001eeceb6</td>\n      <td>normal</td>\n      <td>6</td>\n      <td>0</td>\n      <td>2</td>\n      <td>...</td>\n      <td>NaN</td>\n      <td>NaN</td>\n      <td>NaN</td>\n      <td>NaN</td>\n      <td>0</td>\n      <td>0</td>\n      <td>1</td>\n      <td>星巴克谐音梗➕低卡柠檬茶隐藏配方🌟星巴克谐音梗我也学会啦星巴克低卡柠檬茶也是超级好喝哦酸酸甜...</td>\n      <td>[{'score': 7, 'type': 'restaurant'}]</td>\n      <td>[星巴克]</td>\n    </tr>\n    <tr>\n      <th>539605</th>\n      <td>尖锐鞋头、打破常规橡胶底片非常机能的设计，加上标志性的三角大Logo</td>\n      <td>{\"$oid\":\"657a44f5350c4aa172925c0d\"}</td>\n      <td>user_post</td>\n      <td>6273966e000000000102f8b2</td>\n      <td>林binbin</td>\n      <td>5bc5a7b78f3d4800016d57d4</td>\n      <td>normal</td>\n      <td>0</td>\n      <td>0</td>\n      <td>0</td>\n      <td>...</td>\n      <td>NaN</td>\n      <td>NaN</td>\n      <td>NaN</td>\n      <td>NaN</td>\n      <td>0</td>\n      <td>0</td>\n      <td>1</td>\n      <td>𝐏𝐑𝐀𝐃𝐀普拉达2022系列不用多说绝对是爆尖锐鞋头、打破常规橡胶底片非常机能的设计，加上标...</td>\n      <td>[{'score': 9, 'type': 'brand'}]</td>\n      <td>[普拉达, Prada]</td>\n    </tr>\n  </tbody>\n</table>\n<p>9814 rows × 45 columns</p>\n</div>"
     },
     "execution_count": 4,
     "metadata": {},
     "output_type": "execute_result"
    }
   ],
   "execution_count": 4
  },
  {
   "cell_type": "code",
   "source": [
    "df_user = group_by_user_v2(df_filtered)\n",
    "print(f'expense - #posts:{len(df_filtered)}, #users: {len(df_user)}')\n",
    "df_user"
   ],
   "metadata": {
    "collapsed": false
   },
   "id": "ebd1fac5861b893f",
   "outputs": [],
   "execution_count": null
  },
  {
   "metadata": {},
   "cell_type": "code",
   "source": [
    "df_user_by_type = filter_user_by_type(df_user, 2)\n",
    "print(f'expense - #users: {len(df_user_by_type)}')\n",
    "df_user_by_type"
   ],
   "id": "86bdd7dc4cec89a1",
   "outputs": [],
   "execution_count": null
  },
  {
   "metadata": {},
   "cell_type": "code",
   "source": [
    "df_user\n",
    "df_user_by_type = filter_user_by_type(df_user, 2)\n",
    "print(f'expense - #users: {len(df_user_by_type)}')\n",
    "df_user_by_type"
   ],
   "id": "ae883313c6db0e09",
   "outputs": [],
   "execution_count": null
  },
  {
   "metadata": {},
   "cell_type": "code",
   "outputs": [],
   "execution_count": null,
   "source": "",
   "id": "4540895eee250e71"
  }
 ],
 "metadata": {
  "kernelspec": {
   "display_name": "Python 3",
   "language": "python",
   "name": "python3"
  },
  "language_info": {
   "codemirror_mode": {
    "name": "ipython",
    "version": 2
   },
   "file_extension": ".py",
   "mimetype": "text/x-python",
   "name": "python",
   "nbconvert_exporter": "python",
   "pygments_lexer": "ipython2",
   "version": "2.7.6"
  }
 },
 "nbformat": 4,
 "nbformat_minor": 5
}
