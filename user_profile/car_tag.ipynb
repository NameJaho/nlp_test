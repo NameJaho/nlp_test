{
 "cells": [
  {
   "cell_type": "code",
   "id": "initial_id",
   "metadata": {
    "collapsed": true,
    "ExecuteTime": {
     "end_time": "2024-08-22T02:36:57.115923Z",
     "start_time": "2024-08-22T02:36:56.780796Z"
    }
   },
   "source": [
    "import warnings\n",
    "from user_profile.profile_service import *\n",
    "warnings.filterwarnings('ignore')\n",
    "\n",
    "INPUT_FILE = 'data/xhs-T1-40W.csv'\n",
    "CONFIG_FILE = 'config/config.yaml'\n",
    "DOMAIN = 'CAR'"
   ],
   "outputs": [
    {
     "name": "stdout",
     "output_type": "stream",
     "text": [
      "INFO: Pandarallel will run on 8 workers.\n",
      "INFO: Pandarallel will use standard multiprocessing data transfer (pipe) to transfer data between the main process and workers.\n"
     ]
    }
   ],
   "execution_count": 1
  },
  {
   "metadata": {
    "ExecuteTime": {
     "end_time": "2024-08-22T02:36:57.206169Z",
     "start_time": "2024-08-22T02:36:57.116509Z"
    }
   },
   "cell_type": "code",
   "source": [
    "# load config\n",
    "config = load_config(CONFIG_FILE)\n",
    "\n",
    "global_nickname_blacklist = get_global_nickname_blacklist(config)\n",
    "domain_nickname_blacklist = get_domain_nicknames_blacklist(config, domain=DOMAIN)\n",
    "\n",
    "domain_content_whitelist = get_content_whitelist(config, domain=DOMAIN)\n",
    "domain_content_blacklist = get_content_blacklist(config, domain=DOMAIN)"
   ],
   "id": "5664a1f9cdcbe942",
   "outputs": [],
   "execution_count": 2
  },
  {
   "metadata": {
    "ExecuteTime": {
     "end_time": "2024-08-22T02:37:05.487710Z",
     "start_time": "2024-08-22T02:36:57.206418Z"
    }
   },
   "cell_type": "code",
   "source": [
    "# load data then remove global biz user\n",
    "df = load_data(INPUT_FILE)\n",
    "df = remove_biz_user(df, global_nickname_blacklist)\n",
    "df = remove_biz_user(df, domain_nickname_blacklist)\n",
    "len(df)"
   ],
   "id": "71616520c8447275",
   "outputs": [
    {
     "data": {
      "text/plain": "223227"
     },
     "execution_count": 3,
     "metadata": {},
     "output_type": "execute_result"
    }
   ],
   "execution_count": 3
  },
  {
   "metadata": {
    "ExecuteTime": {
     "end_time": "2024-08-22T02:40:05.574628Z",
     "start_time": "2024-08-22T02:39:59.944465Z"
    }
   },
   "cell_type": "code",
   "source": [
    "# filter by score based on content white/black list and score threshold\n",
    "df_filtered = filter_by_score(df, domain_content_whitelist, domain_content_blacklist,threshold=5)\n",
    "df_user = group_by_user(df_filtered)\n",
    "print(f'car - #posts:{len(df_filtered)}, #users: {len(df_user)}')"
   ],
   "id": "2c65e98536b620ca",
   "outputs": [
    {
     "name": "stdout",
     "output_type": "stream",
     "text": [
      "car - #posts:414, #users: 245\n"
     ]
    }
   ],
   "execution_count": 5
  },
  {
   "metadata": {},
   "cell_type": "code",
   "source": [
    "df_filtered[df_filtered['content'].str.len()<20]"
   ],
   "id": "53f8d3c80643307f",
   "outputs": [],
   "execution_count": null
  },
  {
   "metadata": {},
   "cell_type": "code",
   "source": [
    "df_filtered"
   ],
   "id": "1d670f04af60caa4",
   "outputs": [],
   "execution_count": null
  },
  {
   "metadata": {},
   "cell_type": "code",
   "source": [
    "df_filtered[df_filtered['content'].str.contains('您')]"
   ],
   "id": "a41da2d72641b591",
   "outputs": [],
   "execution_count": null
  },
  {
   "metadata": {},
   "cell_type": "code",
   "source": [
    "df_user.head(200)"
   ],
   "id": "8ab177ebbad608e8",
   "outputs": [],
   "execution_count": null
  },
  {
   "metadata": {},
   "cell_type": "code",
   "source": [
    "# check single post with user id\n",
    "user_id = '5a02afe211be103f804e6296'\n",
    "\n",
    "show_content_by_user_id(df_user, domain_content_whitelist, domain_content_blacklist, user_id)"
   ],
   "id": "9c723a7405920449",
   "outputs": [],
   "execution_count": null
  },
  {
   "metadata": {},
   "cell_type": "code",
   "source": [
    "# it's gonna take a while\n",
    "show_all_contents(df_user[:30], domain_content_whitelist, domain_content_blacklist)"
   ],
   "id": "c9633b17f7c09526",
   "outputs": [],
   "execution_count": null
  }
 ],
 "metadata": {
  "kernelspec": {
   "display_name": "Python 3",
   "language": "python",
   "name": "python3"
  },
  "language_info": {
   "codemirror_mode": {
    "name": "ipython",
    "version": 2
   },
   "file_extension": ".py",
   "mimetype": "text/x-python",
   "name": "python",
   "nbconvert_exporter": "python",
   "pygments_lexer": "ipython2",
   "version": "2.7.6"
  }
 },
 "nbformat": 4,
 "nbformat_minor": 5
}
